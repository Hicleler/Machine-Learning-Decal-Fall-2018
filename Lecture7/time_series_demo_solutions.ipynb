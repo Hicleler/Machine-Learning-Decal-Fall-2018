{
 "cells": [
  {
   "cell_type": "code",
   "execution_count": 1,
   "metadata": {
    "collapsed": true
   },
   "outputs": [],
   "source": [
    "import numpy as np\n",
    "\n",
    "import matplotlib.pyplot as plt\n",
    "%matplotlib inline\n",
    "\n",
    "import torch\n",
    "import torch.nn as nn\n",
    "import torch.optim as optim"
   ]
  },
  {
   "cell_type": "code",
   "execution_count": 2,
   "metadata": {
    "collapsed": true
   },
   "outputs": [],
   "source": [
    "%%capture\n",
    "np.random.seed(0)\n",
    "torch.manual_seed(0)"
   ]
  },
  {
   "cell_type": "markdown",
   "metadata": {},
   "source": [
    "In this demo, we will show how vanilla Recurrent Neural Networks (RNNs) can be used to solve time-series extrapolation problems -- That is, problems that require you to predict the \"next value\" given a series of values."
   ]
  },
  {
   "cell_type": "markdown",
   "metadata": {},
   "source": [
    "# Generate Data"
   ]
  },
  {
   "cell_type": "markdown",
   "metadata": {},
   "source": [
    "Here, we will try to use a RNN to predict a sine wave. We create a dataset consisting of a random length of a sine wave with Gaussian noise."
   ]
  },
  {
   "cell_type": "code",
   "execution_count": 3,
   "metadata": {},
   "outputs": [
    {
     "data": {
      "image/png": "[encoded data removed]",
      "text/plain": [
       "<Figure size 1152x648 with 1 Axes>"
      ]
     },
     "metadata": {},
     "output_type": "display_data"
    }
   ],
   "source": [
    "SIGMA = 0.02\n",
    "N = 20\n",
    "\n",
    "dataset = []\n",
    "\n",
    "for _ in range(N):\n",
    "    end = np.random.uniform(40, 50)\n",
    "    t = np.arange(0, end, 0.2)\n",
    "    x = np.sin(t) + np.random.normal(loc=0.0, scale=SIGMA, size=t.shape)\n",
    "    dataset.append(x)\n",
    "\n",
    "plt.figure(figsize=(16, 9))\n",
    "plt.scatter(np.arange(dataset[0].shape[0]), dataset[0], s=2)\n",
    "plt.show()"
   ]
  },
  {
   "cell_type": "code",
   "execution_count": 4,
   "metadata": {
    "collapsed": true
   },
   "outputs": [],
   "source": [
    "dataset = [\n",
    "    (torch.from_numpy(input_seq[:-1]).double(), torch.from_numpy(input_seq[1:]).double()) \\\n",
    "        for input_seq in dataset\n",
    "]"
   ]
  },
  {
   "cell_type": "code",
   "execution_count": 5,
   "metadata": {
    "collapsed": true
   },
   "outputs": [],
   "source": [
    "class RNN(nn.Module):\n",
    "    \n",
    "    def __init__(self, hidden_size):\n",
    "        \n",
    "        super().__init__()\n",
    "        \n",
    "        self.hidden_size = hidden_size\n",
    "        \n",
    "        self.rnn = nn.RNN(input_size=1, hidden_size=self.hidden_size)\n",
    "        self.linear = nn.Linear(in_features=self.hidden_size, out_features=1)\n",
    "        \n",
    "        \n",
    "    def forward(self, inputs, teacher_force_prob=0.5):\n",
    "        \n",
    "        initial_h = self.get_initial_h()\n",
    "        seq_len = inputs.shape[0]\n",
    "        \n",
    "        outputs = []\n",
    "        h = initial_h\n",
    "        for i, inp in enumerate(inputs):\n",
    "            if i == 0 or np.random.uniform() < teacher_force_prob:\n",
    "                inp_to_rnn = inp\n",
    "            else:\n",
    "                inp_to_rnn = output\n",
    "            output, h = self.rnn(inp_to_rnn.reshape(1, 1, 1), h)\n",
    "            output = self.linear(torch.squeeze(output))\n",
    "            outputs.append(output)\n",
    "        final_h = h\n",
    "        \n",
    "        outputs = torch.squeeze(torch.cat(outputs))\n",
    "        \n",
    "        return outputs, final_h\n",
    "    \n",
    "    \n",
    "    def get_initial_h(self):\n",
    "        \n",
    "        return torch.zeros(1, 1, self.hidden_size).double()\n",
    "    \n",
    "    \n",
    "    def extrapolate(self, inputs, num_futures):\n",
    "        \n",
    "        with torch.no_grad():\n",
    "            \n",
    "            outputs, final_h = self.forward(inputs)\n",
    "            \n",
    "            future_points = []\n",
    "            h = final_h\n",
    "            pred_pt = outputs[-1]\n",
    "            \n",
    "            for _ in range(num_futures):\n",
    "                pred, h = self.rnn(pred_pt.reshape(1, 1, 1), h)\n",
    "                pred_pt = self.linear(pred)\n",
    "                future_points.append(pred_pt.item())\n",
    "                \n",
    "            future_points = np.array(future_points)\n",
    "            return np.concatenate((outputs.numpy().reshape(-1), future_points))\n",
    "                \n"
   ]
  },
  {
   "cell_type": "code",
   "execution_count": 6,
   "metadata": {},
   "outputs": [
    {
     "name": "stdout",
     "output_type": "stream",
     "text": [
      "0.48566103019178974\n",
      "0.4647559270155062\n",
      "0.4444063661449832\n",
      "0.43230205037926855\n",
      "0.41534796511189054\n",
      "0.4008884137693096\n",
      "0.38482225136970605\n",
      "0.3697960264749077\n",
      "0.34997113765393056\n",
      "0.3239724257331065\n",
      "0.3126405184586418\n",
      "0.27457179470255244\n",
      "0.24917313907723856\n",
      "0.2287570929077405\n",
      "0.19688447963695171\n",
      "0.1735985909482733\n",
      "0.15376114830145834\n",
      "0.15268295685069838\n",
      "0.13712003810005707\n",
      "0.11950104799922032\n",
      "0.11282153274925674\n",
      "0.09606469198828863\n",
      "0.07439901780530087\n",
      "0.0619022577143745\n",
      "0.041953968941428624\n",
      "0.029250253826791132\n",
      "0.02759950948380267\n",
      "0.051585699401869876\n",
      "0.11112835749154555\n",
      "0.3361293153201116\n",
      "0.07016812467629702\n",
      "0.034137434487751146\n",
      "0.031239621254512295\n",
      "0.020939420228636457\n",
      "0.01690055007913557\n"
     ]
    }
   ],
   "source": [
    "EPOCHS = 35\n",
    "LR = 0.05\n",
    "BETA = 0.2\n",
    "HIDDEN_SIZE = 64\n",
    "\n",
    "net = RNN(HIDDEN_SIZE).double()\n",
    "\n",
    "criterion = nn.MSELoss()\n",
    "optimizer = optim.SGD(net.parameters(), lr=LR, momentum=BETA)\n",
    "\n",
    "for _ in range(EPOCHS):\n",
    "    \n",
    "    total_loss = 0\n",
    "    \n",
    "    for inputs, target in dataset:\n",
    "        \n",
    "        output, _ = net(inputs)\n",
    "        output = output.reshape(-1)\n",
    "        loss = criterion(output, target)\n",
    "        \n",
    "        total_loss += loss\n",
    "        \n",
    "    total_loss /= len(dataset)\n",
    "    \n",
    "    print(total_loss.item())\n",
    "    net.zero_grad()\n",
    "    total_loss.backward()\n",
    "    optimizer.step()\n",
    "    "
   ]
  },
  {
   "cell_type": "code",
   "execution_count": 7,
   "metadata": {},
   "outputs": [
    {
     "data": {
      "image/png": "[encoded data removed]",
      "text/plain": [
       "<Figure size 1152x648 with 1 Axes>"
      ]
     },
     "metadata": {},
     "output_type": "display_data"
    }
   ],
   "source": [
    "num_future = 200\n",
    "\n",
    "ground = dataset[0][0]\n",
    "num_ground = ground.shape[0]\n",
    "prediction = net.extrapolate(ground, num_future)\n",
    "\n",
    "plt.figure(figsize=(16, 9))\n",
    "plt.scatter(np.arange(0, num_ground), ground, s=1)\n",
    "plt.scatter(np.arange(num_ground + num_future), prediction, s=1)\n",
    "plt.show()"
   ]
  },
  {
   "cell_type": "code",
   "execution_count": null,
   "metadata": {
    "collapsed": true
   },
   "outputs": [],
   "source": []
  }
 ],
 "metadata": {
  "kernelspec": {
   "display_name": "Python 3",
   "language": "python",
   "name": "python3"
  },
  "language_info": {
   "codemirror_mode": {
    "name": "ipython",
    "version": 3
   },
   "file_extension": ".py",
   "mimetype": "text/x-python",
   "name": "python",
   "nbconvert_exporter": "python",
   "pygments_lexer": "ipython3",
   "version": "3.6.3"
  }
 },
 "nbformat": 4,
 "nbformat_minor": 2
}
