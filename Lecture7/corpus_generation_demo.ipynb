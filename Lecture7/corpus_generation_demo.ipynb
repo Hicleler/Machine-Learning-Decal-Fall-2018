{
 "cells": [
  {
   "cell_type": "code",
   "execution_count": null,
   "metadata": {
    "collapsed": true
   },
   "outputs": [],
   "source": [
    "import numpy as np\n",
    "\n",
    "import torch\n",
    "import torch.nn as nn\n",
    "import torch.optim as optim"
   ]
  },
  {
   "cell_type": "code",
   "execution_count": null,
   "metadata": {
    "collapsed": true
   },
   "outputs": [],
   "source": [
    "%%capture\n",
    "np.random.seed(0)\n",
    "torch.manual_seed(0)"
   ]
  },
  {
   "cell_type": "code",
   "execution_count": null,
   "metadata": {},
   "outputs": [],
   "source": [
    "CHARS = \"0123456789abcdefghijklmnopqrstuvwxyzABCDEFGHIJKLMNOPQRSTUVWXYZ\" \\\n",
    "        + \"!\\\"#$%&\\'()*+,-./:;—<=>?@[\\\\]^_`{|}~ \\t\\n\\r\\x0b\\x0c\"\n",
    "\n",
    "corpus = []\n",
    "with open('shakespeare.txt', 'r') as f:\n",
    "    for line in f:\n",
    "        for char in line.strip():\n",
    "            corpus.append(char)\n",
    "        corpus.append('\\n')\n",
    "\n",
    "print(\"Total number of characters:\", len(corpus))\n",
    "print(\"\\n\\n\")\n",
    "print(\"First 100 characters:\\n\")\n",
    "print(corpus[:100])"
   ]
  },
  {
   "cell_type": "code",
   "execution_count": null,
   "metadata": {},
   "outputs": [],
   "source": [
    "char2idx = {char : i for i, char in enumerate(CHARS)}\n",
    "idx2char = {i : char for i, char in enumerate(CHARS)}\n",
    "\n",
    "NUM_CHARS = len(char2idx)\n",
    "print(\"Total number of distinct chars:\", NUM_CHARS)"
   ]
  },
  {
   "cell_type": "code",
   "execution_count": null,
   "metadata": {},
   "outputs": [],
   "source": [
    "corpus_with_indices = [char2idx[char] for char in corpus]\n",
    "\n",
    "print(\"Corpus with indices:\")\n",
    "print(corpus_with_indices[:100])\n",
    "\n",
    "SIZE_OF_SNIPPET = 250\n",
    "dataset = []\n",
    "for _ in range(2000):\n",
    "    \n",
    "    snipped_start = np.random.randint(0, len(corpus_with_indices) - SIZE_OF_SNIPPET)\n",
    "    snipped = corpus_with_indices[snipped_start:snipped_start + SIZE_OF_SNIPPET]\n",
    "    \n",
    "    dataset.append((\n",
    "        torch.LongTensor(snipped[:-1]),\n",
    "        torch.LongTensor(snipped[1:])\n",
    "    ))\n",
    "\n",
    "print(\"\\nSize of dataset:\", len(dataset))\n",
    "\n",
    "X = torch.stack([xy[0] for xy in dataset])\n",
    "Y = torch.stack([xy[1] for xy in dataset])"
   ]
  },
  {
   "cell_type": "code",
   "execution_count": null,
   "metadata": {
    "collapsed": true
   },
   "outputs": [],
   "source": [
    "class ShakespeareGenerator(nn.Module):\n",
    "\n",
    "    def __init__(self, embedding_size, hidden_size):\n",
    "\n",
    "        super().__init__()\n",
    "\n",
    "        self.embedding_size = embedding_size\n",
    "        self.hidden_size = hidden_size\n",
    "\n",
    "        self.embedding = nn.Embedding(\n",
    "            num_embeddings=NUM_CHARS,\n",
    "            embedding_dim=self.embedding_size\n",
    "        )\n",
    "        self.lstm = nn.LSTM(\n",
    "            input_size=self.embedding_size,\n",
    "            hidden_size=self.hidden_size\n",
    "        )\n",
    "        self.linear = nn.Linear(\n",
    "            in_features=self.hidden_size,\n",
    "            out_features=NUM_CHARS\n",
    "        )\n",
    "\n",
    "\n",
    "    def forward(self, batched_inputs):\n",
    "\n",
    "        batch_size = batched_inputs.shape[1]\n",
    "        h, c = self.get_initial_hc(batch_size)\n",
    "        seq_len = batched_inputs.shape[0]\n",
    "\n",
    "        embeddings = self.embedding(batched_inputs)\n",
    "        outputs, (h, c) = self.lstm(\n",
    "                embeddings.reshape(seq_len, batch_size, self.embedding_size),\n",
    "                (h, c)\n",
    "        )\n",
    "        outputs = self.linear(torch.squeeze(outputs))\n",
    "\n",
    "        return outputs, (h, c)\n",
    "\n",
    "\n",
    "    def get_initial_hc(self, batch_size):\n",
    "\n",
    "        return (torch.zeros(1, batch_size, self.hidden_size),\n",
    "                torch.zeros(1, batch_size, self.hidden_size))\n",
    "\n",
    "\n",
    "    def generate(self, initial_token=' ', num_tokens=100, temperature=1):\n",
    "        \n",
    "        with torch.no_grad():\n",
    "        \n",
    "            token = torch.LongTensor([char2idx[initial_token]])\n",
    "            h, c = self.get_initial_hc(1)\n",
    "            chars = []\n",
    "            \n",
    "            for _ in range(num_tokens):\n",
    "                \n",
    "                chars.append(idx2char[token.item()])\n",
    "                \n",
    "                inp = self.embedding(token)\n",
    "                out, (h, c) = self.lstm(inp.reshape(1, 1, self.embedding_size), (h, c))\n",
    "                dist = self.linear(out.reshape(1, -1))\n",
    "                dist = dist.data.view(-1).div(temperature).exp()\n",
    "                chosen_i = torch.multinomial(dist, 1)[0]\n",
    "                token = torch.LongTensor([chosen_i])\n",
    "                \n",
    "            return ''.join(chars[1:])\n"
   ]
  },
  {
   "cell_type": "code",
   "execution_count": null,
   "metadata": {
    "collapsed": true
   },
   "outputs": [],
   "source": [
    "EPOCHS = 500\n",
    "LR = 0.1\n",
    "BETA = 0.8\n",
    "EMBEDDING_SIZE = 100\n",
    "HIDDEN_SIZE = 64\n",
    "\n",
    "USE_PRETRAINED = True\n",
    "\n",
    "net = ShakespeareGenerator(EMBEDDING_SIZE, HIDDEN_SIZE).float()\n",
    "\n",
    "criterion = nn.CrossEntropyLoss()\n",
    "optimizer = optim.SGD(net.parameters(), lr=LR, momentum=BETA)\n",
    "\n",
    "if USE_PRETRAINED:\n",
    "    net.load_state_dict(torch.load('shakespeare.pt', map_location=lambda storage, loc: storage))\n",
    "    \n",
    "else:\n",
    "    for _ in range(EPOCHS):\n",
    "\n",
    "        output, _ = net(X.transpose(0, 1))\n",
    "        output = output.transpose(0, 1)\n",
    "\n",
    "        loss = criterion(output.reshape(-1, NUM_CHARS), Y.reshape(-1))\n",
    "\n",
    "        print(loss.item())\n",
    "        net.zero_grad()\n",
    "        loss.backward()\n",
    "        optimizer.step()\n",
    "    "
   ]
  },
  {
   "cell_type": "code",
   "execution_count": null,
   "metadata": {},
   "outputs": [],
   "source": [
    "print(net.generate(temperature=1, num_tokens=1000))"
   ]
  },
  {
   "cell_type": "code",
   "execution_count": null,
   "metadata": {},
   "outputs": [],
   "source": [
    "print(net.generate(temperature=1.5, num_tokens=1000))"
   ]
  },
  {
   "cell_type": "code",
   "execution_count": null,
   "metadata": {},
   "outputs": [],
   "source": [
    "print(net.generate(temperature=0.25, num_tokens=1000))"
   ]
  },
  {
   "cell_type": "code",
   "execution_count": null,
   "metadata": {
    "collapsed": true
   },
   "outputs": [],
   "source": []
  }
 ],
 "metadata": {
  "kernelspec": {
   "display_name": "Python 3",
   "language": "python",
   "name": "python3"
  },
  "language_info": {
   "codemirror_mode": {
    "name": "ipython",
    "version": 3
   },
   "file_extension": ".py",
   "mimetype": "text/x-python",
   "name": "python",
   "nbconvert_exporter": "python",
   "pygments_lexer": "ipython3",
   "version": "3.6.3"
  }
 },
 "nbformat": 4,
 "nbformat_minor": 2
}
