{
 "cells": [
  {
   "cell_type": "markdown",
   "metadata": {},
   "source": [
    "# Getting started with Word2Vec in Gensim and making it work!\n",
    "\n",
    "The idea behind Word2Vec is pretty simple. We are making and assumption that you can tell the meaning of a word by the company it keeps. This is analogous to the saying *show me your friends, and I'll tell who you are*. So if you have two words that have very similar neighbors (i.e. the usage context is about the same), then these words are probably quite similar in meaning or are at least highly related. For example, the words `shocked`,`appalled` and `astonished` are typically used in a similar context. \n",
    "\n",
    "In this tutorial, you will learn how to use the Gensim implementation of Word2Vec and actually get it to work! I have heard a lot of complaints about poor performance etc, but its really a combination of two things, (1) your input data and (2) your parameter settings. Note that the training algorithms in this package were ported from the [original Word2Vec implementation by Google](https://arxiv.org/pdf/1301.3781.pdf) and extended with additional functionality."
   ]
  },
  {
   "cell_type": "markdown",
   "metadata": {},
   "source": [
    "### Imports and logging\n",
    "\n",
    "First, we start with our imports and get logging established:"
   ]
  },
  {
   "cell_type": "code",
   "execution_count": 1,
   "metadata": {},
   "outputs": [],
   "source": [
    "# imports needed and set up logging\n",
    "import gzip\n",
    "import gensim \n",
    "import logging\n",
    "\n",
    "logging.basicConfig(format='%(asctime)s : %(levelname)s : %(message)s', level=logging.INFO)\n"
   ]
  },
  {
   "cell_type": "markdown",
   "metadata": {},
   "source": [
    "### Dataset \n",
    "Next, is our dataset. The secret to getting Word2Vec really working for you is to have lots and lots of text data. In this case I am going to use data from the [OpinRank](http://kavita-ganesan.com/entity-ranking-data/) dataset. This dataset has full user reviews of cars and hotels. I have specifically concatenated all of the hotel reviews into one big file which is about 97MB compressed and 229MB uncompressed. We will use the compressed file for this tutorial. Each line in this file represents a hotel review. You can download the OpinRank Word2Vec dataset here.\n",
    "\n",
    "To avoid confusion, while gensim’s word2vec tutorial says that you need to pass it a sequence of sentences as its input, you can always pass it a whole review as a sentence (i.e. a much larger size of text), and it should not make much of a difference. \n",
    "\n",
    "Now, let's take a closer look at this data below by printing the first line. You can see that this is a pretty hefty review."
   ]
  },
  {
   "cell_type": "code",
   "execution_count": 2,
   "metadata": {},
   "outputs": [
    {
     "name": "stdout",
     "output_type": "stream",
     "text": [
      "b\"Oct 12 2009 \\tNice trendy hotel location not too bad.\\tI stayed in this hotel for one night. As this is a fairly new place some of the taxi drivers did not know where it was and/or did not want to drive there. Once I have eventually arrived at the hotel, I was very pleasantly surprised with the decor of the lobby/ground floor area. It was very stylish and modern. I found the reception's staff geeting me with 'Aloha' a bit out of place, but I guess they are briefed to say that to keep up the coroporate image.As I have a Starwood Preferred Guest member, I was given a small gift upon-check in. It was only a couple of fridge magnets in a gift box, but nevertheless a nice gesture.My room was nice and roomy, there are tea and coffee facilities in each room and you get two complimentary bottles of water plus some toiletries by 'bliss'.The location is not great. It is at the last metro stop and you then need to take a taxi, but if you are not planning on going to see the historic sites in Beijing, then you will be ok.I chose to have some breakfast in the hotel, which was really tasty and there was a good selection of dishes. There are a couple of computers to use in the communal area, as well as a pool table. There is also a small swimming pool and a gym area.I would definitely stay in this hotel again, but only if I did not plan to travel to central Beijing, as it can take a long time. The location is ok if you plan to do a lot of shopping, as there is a big shopping centre just few minutes away from the hotel and there are plenty of eating options around, including restaurants that serve a dog meat!\\t\\r\\n\"\n"
     ]
    }
   ],
   "source": [
    "data_file=\"reviews_data.txt.gz\"\n",
    "\n",
    "with gzip.open ('reviews_data.txt.gz', 'rb') as f:\n",
    "    for i,line in enumerate (f):\n",
    "        print(line)\n",
    "        break\n"
   ]
  },
  {
   "cell_type": "markdown",
   "metadata": {},
   "source": [
    "### Read files into a list\n",
    "Now that we've had a sneak peak of our dataset, we can read it into a list so that we can pass this on to the Word2Vec model. Notice in the code below, that I am directly reading the \n",
    "compressed file. I'm also doing a mild pre-processing of the reviews using `gensim.utils.simple_preprocess (line)`. This does some basic pre-processing such as tokenization, lowercasing, etc and returns back a list of tokens (words). Documentation of this pre-processing method can be found on the official [Gensim documentation site](https://radimrehurek.com/gensim/utils.html). \n",
    "\n"
   ]
  },
  {
   "cell_type": "code",
   "execution_count": 3,
   "metadata": {},
   "outputs": [
    {
     "name": "stderr",
     "output_type": "stream",
     "text": [
      "2018-10-23 14:20:45,670 : INFO : reading file reviews_data.txt.gz...this may take a while\n",
      "2018-10-23 14:20:45,672 : INFO : read 0 reviews\n",
      "2018-10-23 14:20:47,824 : INFO : read 10000 reviews\n",
      "2018-10-23 14:20:49,912 : INFO : read 20000 reviews\n",
      "2018-10-23 14:20:52,373 : INFO : read 30000 reviews\n",
      "2018-10-23 14:20:54,715 : INFO : read 40000 reviews\n",
      "2018-10-23 14:20:57,520 : INFO : read 50000 reviews\n",
      "2018-10-23 14:21:00,099 : INFO : read 60000 reviews\n",
      "2018-10-23 14:21:03,006 : INFO : read 70000 reviews\n",
      "2018-10-23 14:21:05,371 : INFO : read 80000 reviews\n",
      "2018-10-23 14:21:07,852 : INFO : read 90000 reviews\n",
      "2018-10-23 14:21:10,561 : INFO : read 100000 reviews\n",
      "2018-10-23 14:21:12,706 : INFO : read 110000 reviews\n",
      "2018-10-23 14:21:14,900 : INFO : read 120000 reviews\n",
      "2018-10-23 14:21:17,227 : INFO : read 130000 reviews\n",
      "2018-10-23 14:21:19,796 : INFO : read 140000 reviews\n",
      "2018-10-23 14:21:22,375 : INFO : read 150000 reviews\n",
      "2018-10-23 14:21:25,925 : INFO : read 160000 reviews\n",
      "2018-10-23 14:21:28,386 : INFO : read 170000 reviews\n",
      "2018-10-23 14:21:30,615 : INFO : read 180000 reviews\n",
      "2018-10-23 14:21:32,848 : INFO : read 190000 reviews\n",
      "2018-10-23 14:21:35,164 : INFO : read 200000 reviews\n",
      "2018-10-23 14:21:37,930 : INFO : read 210000 reviews\n",
      "2018-10-23 14:21:40,433 : INFO : read 220000 reviews\n",
      "2018-10-23 14:21:42,504 : INFO : read 230000 reviews\n",
      "2018-10-23 14:21:49,510 : INFO : read 240000 reviews\n",
      "2018-10-23 14:21:53,114 : INFO : read 250000 reviews\n",
      "2018-10-23 14:21:54,201 : INFO : Done reading data file\n"
     ]
    }
   ],
   "source": [
    "\n",
    "def read_input(input_file):\n",
    "    \"\"\"This method reads the input file which is in gzip format\"\"\"\n",
    "    \n",
    "    logging.info(\"reading file {0}...this may take a while\".format(input_file))\n",
    "    \n",
    "    with gzip.open (input_file, 'rb') as f:\n",
    "        for i, line in enumerate (f): \n",
    "\n",
    "            if (i%10000==0):\n",
    "                logging.info (\"read {0} reviews\".format (i))\n",
    "            # do some pre-processing and return a list of words for each review text\n",
    "            yield gensim.utils.simple_preprocess (line)\n",
    "\n",
    "# read the tokenized reviews into a list\n",
    "# each review item becomes a serries of words\n",
    "# so this becomes a list of lists\n",
    "documents = list (read_input (data_file))\n",
    "logging.info (\"Done reading data file\")    "
   ]
  },
  {
   "cell_type": "markdown",
   "metadata": {},
   "source": [
    "## Training the Word2Vec model\n",
    "\n",
    "Training the model is fairly straightforward. You just instantiate Word2Vec and pass the reviews that we read in the previous step (the `documents`). So, we are essentially passing on a list of lists. Where each list within the main list contains a set of tokens from a user review. Word2Vec uses all these tokens to internally create a vocabulary. And by vocabulary, I mean a set of unique words.\n",
    "\n",
    "After building the vocabulary, we just need to call `train(...)` to start training the Word2Vec model. Training on the [OpinRank](http://kavita-ganesan.com/entity-ranking-data/) dataset takes about 10 minutes so please be patient while running your code on this dataset.\n",
    "\n",
    "Behind the scenes we are actually training a simple neural network with a single hidden layer. But, we are actually not going to use the neural network after training. Instead, the goal is to learn the weights of the hidden layer. These weights are essentially the word vectors that we’re trying to learn. "
   ]
  },
  {
   "cell_type": "code",
   "execution_count": 4,
   "metadata": {},
   "outputs": [
    {
     "name": "stderr",
     "output_type": "stream",
     "text": [
      "2018-10-23 14:26:31,264 : WARNING : consider setting layer size to a multiple of 4 for greater performance\n",
      "2018-10-23 14:26:31,266 : INFO : collecting all words and their counts\n",
      "2018-10-23 14:26:31,267 : INFO : PROGRESS: at sentence #0, processed 0 words, keeping 0 word types\n",
      "2018-10-23 14:26:31,548 : INFO : PROGRESS: at sentence #10000, processed 1655714 words, keeping 25777 word types\n",
      "2018-10-23 14:26:31,809 : INFO : PROGRESS: at sentence #20000, processed 3317863 words, keeping 35016 word types\n",
      "2018-10-23 14:26:32,200 : INFO : PROGRESS: at sentence #30000, processed 5264072 words, keeping 47518 word types\n",
      "2018-10-23 14:26:32,515 : INFO : PROGRESS: at sentence #40000, processed 7081746 words, keeping 56675 word types\n",
      "2018-10-23 14:26:32,873 : INFO : PROGRESS: at sentence #50000, processed 9089491 words, keeping 63744 word types\n",
      "2018-10-23 14:26:33,200 : INFO : PROGRESS: at sentence #60000, processed 11013723 words, keeping 76781 word types\n",
      "2018-10-23 14:26:33,462 : INFO : PROGRESS: at sentence #70000, processed 12637525 words, keeping 83194 word types\n",
      "2018-10-23 14:26:33,697 : INFO : PROGRESS: at sentence #80000, processed 14099751 words, keeping 88454 word types\n",
      "2018-10-23 14:26:33,945 : INFO : PROGRESS: at sentence #90000, processed 15662149 words, keeping 93352 word types\n",
      "2018-10-23 14:26:34,189 : INFO : PROGRESS: at sentence #100000, processed 17164487 words, keeping 97881 word types\n",
      "2018-10-23 14:26:34,430 : INFO : PROGRESS: at sentence #110000, processed 18652292 words, keeping 102127 word types\n",
      "2018-10-23 14:26:34,679 : INFO : PROGRESS: at sentence #120000, processed 20152529 words, keeping 105918 word types\n",
      "2018-10-23 14:26:34,917 : INFO : PROGRESS: at sentence #130000, processed 21684330 words, keeping 110099 word types\n",
      "2018-10-23 14:26:35,199 : INFO : PROGRESS: at sentence #140000, processed 23330206 words, keeping 114103 word types\n",
      "2018-10-23 14:26:35,469 : INFO : PROGRESS: at sentence #150000, processed 24838754 words, keeping 118169 word types\n",
      "2018-10-23 14:26:35,717 : INFO : PROGRESS: at sentence #160000, processed 26390910 words, keeping 118665 word types\n",
      "2018-10-23 14:26:35,966 : INFO : PROGRESS: at sentence #170000, processed 27913916 words, keeping 123350 word types\n",
      "2018-10-23 14:26:36,252 : INFO : PROGRESS: at sentence #180000, processed 29535612 words, keeping 126742 word types\n",
      "2018-10-23 14:26:36,501 : INFO : PROGRESS: at sentence #190000, processed 31096459 words, keeping 129841 word types\n",
      "2018-10-23 14:26:36,778 : INFO : PROGRESS: at sentence #200000, processed 32805271 words, keeping 133249 word types\n",
      "2018-10-23 14:26:37,060 : INFO : PROGRESS: at sentence #210000, processed 34434198 words, keeping 136358 word types\n",
      "2018-10-23 14:26:37,326 : INFO : PROGRESS: at sentence #220000, processed 36083482 words, keeping 139412 word types\n",
      "2018-10-23 14:26:37,578 : INFO : PROGRESS: at sentence #230000, processed 37571762 words, keeping 142393 word types\n",
      "2018-10-23 14:26:37,833 : INFO : PROGRESS: at sentence #240000, processed 39138190 words, keeping 145226 word types\n",
      "2018-10-23 14:26:38,076 : INFO : PROGRESS: at sentence #250000, processed 40695049 words, keeping 147960 word types\n",
      "2018-10-23 14:26:38,252 : INFO : collected 150053 word types from a corpus of 41519355 raw words and 255404 sentences\n",
      "2018-10-23 14:26:38,253 : INFO : Loading a fresh vocabulary\n",
      "2018-10-23 14:26:38,606 : INFO : effective_min_count=2 retains 70538 unique words (47% of original 150053, drops 79515)\n",
      "2018-10-23 14:26:38,608 : INFO : effective_min_count=2 leaves 41439840 word corpus (99% of original 41519355, drops 79515)\n",
      "2018-10-23 14:26:38,836 : INFO : deleting the raw counts dictionary of 150053 items\n",
      "2018-10-23 14:26:38,841 : INFO : sample=0.001 downsamples 55 most-common words\n",
      "2018-10-23 14:26:38,842 : INFO : downsampling leaves estimated 30349255 word corpus (73.2% of prior 41439840)\n",
      "2018-10-23 14:26:39,036 : INFO : estimated required memory for 70538 words and 150 dimensions: 119914600 bytes\n",
      "2018-10-23 14:26:39,037 : INFO : resetting layer weights\n",
      "2018-10-23 14:26:40,045 : INFO : training model with 10 workers on 70538 vocabulary and 150 features, using sg=0 hs=0 sample=0.001 negative=5 window=10\n",
      "2018-10-23 14:26:41,060 : INFO : EPOCH 1 - PROGRESS: at 2.64% examples, 821817 words/s, in_qsize 17, out_qsize 2\n",
      "2018-10-23 14:26:42,086 : INFO : EPOCH 1 - PROGRESS: at 6.09% examples, 921044 words/s, in_qsize 19, out_qsize 0\n",
      "2018-10-23 14:26:43,116 : INFO : EPOCH 1 - PROGRESS: at 8.67% examples, 874136 words/s, in_qsize 13, out_qsize 6\n",
      "2018-10-23 14:26:44,129 : INFO : EPOCH 1 - PROGRESS: at 11.67% examples, 933848 words/s, in_qsize 18, out_qsize 1\n",
      "2018-10-23 14:26:45,139 : INFO : EPOCH 1 - PROGRESS: at 14.78% examples, 961835 words/s, in_qsize 19, out_qsize 0\n",
      "2018-10-23 14:26:46,155 : INFO : EPOCH 1 - PROGRESS: at 17.58% examples, 964973 words/s, in_qsize 18, out_qsize 1\n",
      "2018-10-23 14:26:47,160 : INFO : EPOCH 1 - PROGRESS: at 20.10% examples, 963513 words/s, in_qsize 19, out_qsize 0\n",
      "2018-10-23 14:26:48,164 : INFO : EPOCH 1 - PROGRESS: at 22.99% examples, 967187 words/s, in_qsize 18, out_qsize 1\n",
      "2018-10-23 14:26:49,185 : INFO : EPOCH 1 - PROGRESS: at 26.08% examples, 971863 words/s, in_qsize 17, out_qsize 2\n",
      "2018-10-23 14:26:50,197 : INFO : EPOCH 1 - PROGRESS: at 29.84% examples, 977262 words/s, in_qsize 19, out_qsize 0\n",
      "2018-10-23 14:26:51,198 : INFO : EPOCH 1 - PROGRESS: at 33.58% examples, 983476 words/s, in_qsize 19, out_qsize 0\n",
      "2018-10-23 14:26:52,200 : INFO : EPOCH 1 - PROGRESS: at 36.97% examples, 982587 words/s, in_qsize 18, out_qsize 1\n",
      "2018-10-23 14:26:53,202 : INFO : EPOCH 1 - PROGRESS: at 40.62% examples, 986557 words/s, in_qsize 19, out_qsize 0\n",
      "2018-10-23 14:26:54,215 : INFO : EPOCH 1 - PROGRESS: at 44.78% examples, 994869 words/s, in_qsize 19, out_qsize 0\n",
      "2018-10-23 14:26:55,223 : INFO : EPOCH 1 - PROGRESS: at 48.66% examples, 1002427 words/s, in_qsize 19, out_qsize 0\n",
      "2018-10-23 14:26:56,226 : INFO : EPOCH 1 - PROGRESS: at 52.17% examples, 1003857 words/s, in_qsize 16, out_qsize 3\n",
      "2018-10-23 14:26:57,228 : INFO : EPOCH 1 - PROGRESS: at 55.28% examples, 999069 words/s, in_qsize 19, out_qsize 0\n",
      "2018-10-23 14:26:58,243 : INFO : EPOCH 1 - PROGRESS: at 58.19% examples, 989753 words/s, in_qsize 17, out_qsize 2\n",
      "2018-10-23 14:26:59,254 : INFO : EPOCH 1 - PROGRESS: at 61.17% examples, 982190 words/s, in_qsize 19, out_qsize 0\n",
      "2018-10-23 14:27:00,257 : INFO : EPOCH 1 - PROGRESS: at 64.45% examples, 977730 words/s, in_qsize 19, out_qsize 0\n",
      "2018-10-23 14:27:01,259 : INFO : EPOCH 1 - PROGRESS: at 67.59% examples, 976187 words/s, in_qsize 20, out_qsize 0\n",
      "2018-10-23 14:27:02,265 : INFO : EPOCH 1 - PROGRESS: at 70.83% examples, 977079 words/s, in_qsize 19, out_qsize 0\n",
      "2018-10-23 14:27:03,277 : INFO : EPOCH 1 - PROGRESS: at 74.26% examples, 976998 words/s, in_qsize 19, out_qsize 0\n",
      "2018-10-23 14:27:04,278 : INFO : EPOCH 1 - PROGRESS: at 77.44% examples, 978515 words/s, in_qsize 19, out_qsize 0\n",
      "2018-10-23 14:27:05,280 : INFO : EPOCH 1 - PROGRESS: at 80.62% examples, 978807 words/s, in_qsize 19, out_qsize 0\n",
      "2018-10-23 14:27:06,293 : INFO : EPOCH 1 - PROGRESS: at 83.76% examples, 976947 words/s, in_qsize 19, out_qsize 0\n",
      "2018-10-23 14:27:07,307 : INFO : EPOCH 1 - PROGRESS: at 87.08% examples, 976999 words/s, in_qsize 19, out_qsize 0\n",
      "2018-10-23 14:27:08,322 : INFO : EPOCH 1 - PROGRESS: at 90.59% examples, 976962 words/s, in_qsize 20, out_qsize 0\n",
      "2018-10-23 14:27:09,343 : INFO : EPOCH 1 - PROGRESS: at 93.46% examples, 971715 words/s, in_qsize 19, out_qsize 0\n",
      "2018-10-23 14:27:10,399 : INFO : EPOCH 1 - PROGRESS: at 96.11% examples, 963358 words/s, in_qsize 20, out_qsize 5\n",
      "2018-10-23 14:27:11,406 : INFO : EPOCH 1 - PROGRESS: at 98.94% examples, 958147 words/s, in_qsize 19, out_qsize 0\n",
      "2018-10-23 14:27:11,723 : INFO : worker thread finished; awaiting finish of 9 more threads\n",
      "2018-10-23 14:27:11,725 : INFO : worker thread finished; awaiting finish of 8 more threads\n",
      "2018-10-23 14:27:11,726 : INFO : worker thread finished; awaiting finish of 7 more threads\n",
      "2018-10-23 14:27:11,731 : INFO : worker thread finished; awaiting finish of 6 more threads\n",
      "2018-10-23 14:27:11,736 : INFO : worker thread finished; awaiting finish of 5 more threads\n",
      "2018-10-23 14:27:11,740 : INFO : worker thread finished; awaiting finish of 4 more threads\n"
     ]
    },
    {
     "name": "stderr",
     "output_type": "stream",
     "text": [
      "2018-10-23 14:27:11,747 : INFO : worker thread finished; awaiting finish of 3 more threads\n",
      "2018-10-23 14:27:11,749 : INFO : worker thread finished; awaiting finish of 2 more threads\n",
      "2018-10-23 14:27:11,757 : INFO : worker thread finished; awaiting finish of 1 more threads\n",
      "2018-10-23 14:27:11,762 : INFO : worker thread finished; awaiting finish of 0 more threads\n",
      "2018-10-23 14:27:11,762 : INFO : EPOCH - 1 : training on 41519355 raw words (30350189 effective words) took 31.7s, 957056 effective words/s\n",
      "2018-10-23 14:27:12,784 : INFO : EPOCH 2 - PROGRESS: at 2.92% examples, 901437 words/s, in_qsize 20, out_qsize 0\n",
      "2018-10-23 14:27:13,833 : INFO : EPOCH 2 - PROGRESS: at 5.99% examples, 900507 words/s, in_qsize 20, out_qsize 0\n",
      "2018-10-23 14:27:14,834 : INFO : EPOCH 2 - PROGRESS: at 9.06% examples, 922998 words/s, in_qsize 19, out_qsize 0\n",
      "2018-10-23 14:27:15,838 : INFO : EPOCH 2 - PROGRESS: at 10.91% examples, 864773 words/s, in_qsize 19, out_qsize 0\n",
      "2018-10-23 14:27:16,843 : INFO : EPOCH 2 - PROGRESS: at 12.59% examples, 820902 words/s, in_qsize 19, out_qsize 0\n",
      "2018-10-23 14:27:17,870 : INFO : EPOCH 2 - PROGRESS: at 14.73% examples, 800722 words/s, in_qsize 19, out_qsize 0\n",
      "2018-10-23 14:27:18,898 : INFO : EPOCH 2 - PROGRESS: at 16.78% examples, 785430 words/s, in_qsize 19, out_qsize 0\n",
      "2018-10-23 14:27:19,903 : INFO : EPOCH 2 - PROGRESS: at 18.37% examples, 760029 words/s, in_qsize 19, out_qsize 0\n",
      "2018-10-23 14:27:20,917 : INFO : EPOCH 2 - PROGRESS: at 20.52% examples, 767390 words/s, in_qsize 18, out_qsize 2\n",
      "2018-10-23 14:27:21,920 : INFO : EPOCH 2 - PROGRESS: at 23.09% examples, 777781 words/s, in_qsize 19, out_qsize 0\n",
      "2018-10-23 14:27:22,923 : INFO : EPOCH 2 - PROGRESS: at 25.96% examples, 793699 words/s, in_qsize 18, out_qsize 1\n",
      "2018-10-23 14:27:23,948 : INFO : EPOCH 2 - PROGRESS: at 29.73% examples, 810936 words/s, in_qsize 19, out_qsize 2\n",
      "2018-10-23 14:27:24,960 : INFO : EPOCH 2 - PROGRESS: at 33.33% examples, 824746 words/s, in_qsize 18, out_qsize 1\n",
      "2018-10-23 14:27:25,967 : INFO : EPOCH 2 - PROGRESS: at 36.99% examples, 842108 words/s, in_qsize 19, out_qsize 0\n",
      "2018-10-23 14:27:26,968 : INFO : EPOCH 2 - PROGRESS: at 41.22% examples, 863494 words/s, in_qsize 19, out_qsize 0\n",
      "2018-10-23 14:27:27,991 : INFO : EPOCH 2 - PROGRESS: at 45.69% examples, 884516 words/s, in_qsize 19, out_qsize 0\n",
      "2018-10-23 14:27:28,995 : INFO : EPOCH 2 - PROGRESS: at 49.81% examples, 902360 words/s, in_qsize 19, out_qsize 0\n",
      "2018-10-23 14:27:30,000 : INFO : EPOCH 2 - PROGRESS: at 53.61% examples, 916155 words/s, in_qsize 20, out_qsize 0\n",
      "2018-10-23 14:27:31,004 : INFO : EPOCH 2 - PROGRESS: at 57.69% examples, 928526 words/s, in_qsize 17, out_qsize 2\n",
      "2018-10-23 14:27:32,024 : INFO : EPOCH 2 - PROGRESS: at 61.93% examples, 942466 words/s, in_qsize 19, out_qsize 0\n",
      "2018-10-23 14:27:33,034 : INFO : EPOCH 2 - PROGRESS: at 66.11% examples, 953624 words/s, in_qsize 18, out_qsize 1\n",
      "2018-10-23 14:27:34,041 : INFO : EPOCH 2 - PROGRESS: at 69.97% examples, 962699 words/s, in_qsize 19, out_qsize 0\n",
      "2018-10-23 14:27:35,051 : INFO : EPOCH 2 - PROGRESS: at 74.11% examples, 972657 words/s, in_qsize 20, out_qsize 0\n",
      "2018-10-23 14:27:36,053 : INFO : EPOCH 2 - PROGRESS: at 77.59% examples, 978499 words/s, in_qsize 19, out_qsize 0\n",
      "2018-10-23 14:27:37,086 : INFO : EPOCH 2 - PROGRESS: at 80.97% examples, 979786 words/s, in_qsize 19, out_qsize 0\n",
      "2018-10-23 14:27:38,094 : INFO : EPOCH 2 - PROGRESS: at 84.32% examples, 980839 words/s, in_qsize 19, out_qsize 0\n",
      "2018-10-23 14:27:39,105 : INFO : EPOCH 2 - PROGRESS: at 88.17% examples, 985373 words/s, in_qsize 19, out_qsize 0\n",
      "2018-10-23 14:27:40,137 : INFO : EPOCH 2 - PROGRESS: at 91.02% examples, 978058 words/s, in_qsize 19, out_qsize 0\n",
      "2018-10-23 14:27:41,140 : INFO : EPOCH 2 - PROGRESS: at 93.89% examples, 973366 words/s, in_qsize 19, out_qsize 0\n",
      "2018-10-23 14:27:42,156 : INFO : EPOCH 2 - PROGRESS: at 97.29% examples, 973133 words/s, in_qsize 17, out_qsize 2\n",
      "2018-10-23 14:27:42,973 : INFO : worker thread finished; awaiting finish of 9 more threads\n",
      "2018-10-23 14:27:42,983 : INFO : worker thread finished; awaiting finish of 8 more threads\n",
      "2018-10-23 14:27:42,990 : INFO : worker thread finished; awaiting finish of 7 more threads\n",
      "2018-10-23 14:27:42,993 : INFO : worker thread finished; awaiting finish of 6 more threads\n",
      "2018-10-23 14:27:42,997 : INFO : worker thread finished; awaiting finish of 5 more threads\n",
      "2018-10-23 14:27:42,999 : INFO : worker thread finished; awaiting finish of 4 more threads\n",
      "2018-10-23 14:27:43,008 : INFO : worker thread finished; awaiting finish of 3 more threads\n",
      "2018-10-23 14:27:43,010 : INFO : worker thread finished; awaiting finish of 2 more threads\n",
      "2018-10-23 14:27:43,012 : INFO : worker thread finished; awaiting finish of 1 more threads\n",
      "2018-10-23 14:27:43,026 : INFO : worker thread finished; awaiting finish of 0 more threads\n",
      "2018-10-23 14:27:43,027 : INFO : EPOCH - 2 : training on 41519355 raw words (30347217 effective words) took 31.3s, 971040 effective words/s\n",
      "2018-10-23 14:27:44,041 : INFO : EPOCH 3 - PROGRESS: at 2.99% examples, 924329 words/s, in_qsize 19, out_qsize 0\n",
      "2018-10-23 14:27:45,050 : INFO : EPOCH 3 - PROGRESS: at 6.21% examples, 951794 words/s, in_qsize 18, out_qsize 1\n",
      "2018-10-23 14:27:46,060 : INFO : EPOCH 3 - PROGRESS: at 9.12% examples, 940720 words/s, in_qsize 19, out_qsize 0\n",
      "2018-10-23 14:27:47,063 : INFO : EPOCH 3 - PROGRESS: at 11.58% examples, 934822 words/s, in_qsize 18, out_qsize 1\n",
      "2018-10-23 14:27:48,078 : INFO : EPOCH 3 - PROGRESS: at 14.44% examples, 946294 words/s, in_qsize 19, out_qsize 0\n",
      "2018-10-23 14:27:49,079 : INFO : EPOCH 3 - PROGRESS: at 17.41% examples, 964009 words/s, in_qsize 19, out_qsize 0\n",
      "2018-10-23 14:27:50,097 : INFO : EPOCH 3 - PROGRESS: at 20.08% examples, 969090 words/s, in_qsize 19, out_qsize 0\n",
      "2018-10-23 14:27:51,103 : INFO : EPOCH 3 - PROGRESS: at 22.96% examples, 970861 words/s, in_qsize 16, out_qsize 3\n",
      "2018-10-23 14:27:52,118 : INFO : EPOCH 3 - PROGRESS: at 25.86% examples, 970964 words/s, in_qsize 19, out_qsize 0\n",
      "2018-10-23 14:27:53,120 : INFO : EPOCH 3 - PROGRESS: at 28.85% examples, 954750 words/s, in_qsize 19, out_qsize 0\n",
      "2018-10-23 14:27:54,121 : INFO : EPOCH 3 - PROGRESS: at 32.19% examples, 951085 words/s, in_qsize 19, out_qsize 0\n",
      "2018-10-23 14:27:55,126 : INFO : EPOCH 3 - PROGRESS: at 35.10% examples, 944332 words/s, in_qsize 19, out_qsize 0\n",
      "2018-10-23 14:27:56,166 : INFO : EPOCH 3 - PROGRESS: at 38.63% examples, 944157 words/s, in_qsize 19, out_qsize 0\n",
      "2018-10-23 14:27:57,167 : INFO : EPOCH 3 - PROGRESS: at 42.21% examples, 947157 words/s, in_qsize 19, out_qsize 0\n",
      "2018-10-23 14:27:58,192 : INFO : EPOCH 3 - PROGRESS: at 44.68% examples, 927865 words/s, in_qsize 10, out_qsize 0\n",
      "2018-10-23 14:27:59,192 : INFO : EPOCH 3 - PROGRESS: at 46.48% examples, 902080 words/s, in_qsize 19, out_qsize 0\n",
      "2018-10-23 14:28:00,225 : INFO : EPOCH 3 - PROGRESS: at 48.32% examples, 879754 words/s, in_qsize 16, out_qsize 3\n",
      "2018-10-23 14:28:01,238 : INFO : EPOCH 3 - PROGRESS: at 50.19% examples, 859235 words/s, in_qsize 19, out_qsize 0\n",
      "2018-10-23 14:28:02,290 : INFO : EPOCH 3 - PROGRESS: at 52.26% examples, 844759 words/s, in_qsize 19, out_qsize 0\n",
      "2018-10-23 14:28:03,292 : INFO : EPOCH 3 - PROGRESS: at 55.06% examples, 844658 words/s, in_qsize 19, out_qsize 0\n",
      "2018-10-23 14:28:04,313 : INFO : EPOCH 3 - PROGRESS: at 58.68% examples, 852676 words/s, in_qsize 18, out_qsize 1\n",
      "2018-10-23 14:28:05,316 : INFO : EPOCH 3 - PROGRESS: at 61.81% examples, 855308 words/s, in_qsize 20, out_qsize 0\n",
      "2018-10-23 14:28:06,343 : INFO : EPOCH 3 - PROGRESS: at 63.68% examples, 839369 words/s, in_qsize 19, out_qsize 0\n",
      "2018-10-23 14:28:07,352 : INFO : EPOCH 3 - PROGRESS: at 65.71% examples, 828768 words/s, in_qsize 20, out_qsize 0\n",
      "2018-10-23 14:28:08,353 : INFO : EPOCH 3 - PROGRESS: at 68.69% examples, 830875 words/s, in_qsize 19, out_qsize 0\n",
      "2018-10-23 14:28:09,366 : INFO : EPOCH 3 - PROGRESS: at 72.06% examples, 838627 words/s, in_qsize 18, out_qsize 1\n",
      "2018-10-23 14:28:10,381 : INFO : EPOCH 3 - PROGRESS: at 75.82% examples, 847829 words/s, in_qsize 18, out_qsize 1\n",
      "2018-10-23 14:28:11,391 : INFO : EPOCH 3 - PROGRESS: at 79.33% examples, 856469 words/s, in_qsize 19, out_qsize 0\n",
      "2018-10-23 14:28:12,394 : INFO : EPOCH 3 - PROGRESS: at 82.90% examples, 864276 words/s, in_qsize 19, out_qsize 0\n"
     ]
    },
    {
     "name": "stderr",
     "output_type": "stream",
     "text": [
      "2018-10-23 14:28:13,396 : INFO : EPOCH 3 - PROGRESS: at 86.02% examples, 867927 words/s, in_qsize 19, out_qsize 0\n",
      "2018-10-23 14:28:14,400 : INFO : EPOCH 3 - PROGRESS: at 89.18% examples, 868009 words/s, in_qsize 19, out_qsize 0\n",
      "2018-10-23 14:28:15,405 : INFO : EPOCH 3 - PROGRESS: at 92.62% examples, 871385 words/s, in_qsize 18, out_qsize 1\n",
      "2018-10-23 14:28:16,429 : INFO : EPOCH 3 - PROGRESS: at 95.93% examples, 873856 words/s, in_qsize 19, out_qsize 0\n",
      "2018-10-23 14:28:17,442 : INFO : EPOCH 3 - PROGRESS: at 98.89% examples, 872823 words/s, in_qsize 18, out_qsize 1\n",
      "2018-10-23 14:28:17,689 : INFO : worker thread finished; awaiting finish of 9 more threads\n",
      "2018-10-23 14:28:17,690 : INFO : worker thread finished; awaiting finish of 8 more threads\n",
      "2018-10-23 14:28:17,690 : INFO : worker thread finished; awaiting finish of 7 more threads\n",
      "2018-10-23 14:28:17,693 : INFO : worker thread finished; awaiting finish of 6 more threads\n",
      "2018-10-23 14:28:17,715 : INFO : worker thread finished; awaiting finish of 5 more threads\n",
      "2018-10-23 14:28:17,717 : INFO : worker thread finished; awaiting finish of 4 more threads\n",
      "2018-10-23 14:28:17,717 : INFO : worker thread finished; awaiting finish of 3 more threads\n",
      "2018-10-23 14:28:17,719 : INFO : worker thread finished; awaiting finish of 2 more threads\n",
      "2018-10-23 14:28:17,720 : INFO : worker thread finished; awaiting finish of 1 more threads\n",
      "2018-10-23 14:28:17,720 : INFO : worker thread finished; awaiting finish of 0 more threads\n",
      "2018-10-23 14:28:17,721 : INFO : EPOCH - 3 : training on 41519355 raw words (30351901 effective words) took 34.7s, 875039 effective words/s\n",
      "2018-10-23 14:28:18,731 : INFO : EPOCH 4 - PROGRESS: at 3.22% examples, 995319 words/s, in_qsize 17, out_qsize 2\n",
      "2018-10-23 14:28:19,744 : INFO : EPOCH 4 - PROGRESS: at 6.09% examples, 931193 words/s, in_qsize 19, out_qsize 0\n",
      "2018-10-23 14:28:20,753 : INFO : EPOCH 4 - PROGRESS: at 9.15% examples, 944074 words/s, in_qsize 18, out_qsize 1\n",
      "2018-10-23 14:28:21,763 : INFO : EPOCH 4 - PROGRESS: at 10.87% examples, 868209 words/s, in_qsize 19, out_qsize 0\n",
      "2018-10-23 14:28:22,779 : INFO : EPOCH 4 - PROGRESS: at 12.19% examples, 795872 words/s, in_qsize 15, out_qsize 4\n",
      "2018-10-23 14:28:23,835 : INFO : EPOCH 4 - PROGRESS: at 14.19% examples, 769063 words/s, in_qsize 16, out_qsize 3\n",
      "2018-10-23 14:28:24,855 : INFO : EPOCH 4 - PROGRESS: at 16.78% examples, 784414 words/s, in_qsize 18, out_qsize 1\n",
      "2018-10-23 14:28:25,858 : INFO : EPOCH 4 - PROGRESS: at 19.10% examples, 794700 words/s, in_qsize 19, out_qsize 0\n",
      "2018-10-23 14:28:26,875 : INFO : EPOCH 4 - PROGRESS: at 21.80% examples, 808611 words/s, in_qsize 19, out_qsize 0\n",
      "2018-10-23 14:28:27,878 : INFO : EPOCH 4 - PROGRESS: at 23.91% examples, 810251 words/s, in_qsize 19, out_qsize 0\n",
      "2018-10-23 14:28:28,889 : INFO : EPOCH 4 - PROGRESS: at 27.20% examples, 822251 words/s, in_qsize 18, out_qsize 1\n",
      "2018-10-23 14:28:29,898 : INFO : EPOCH 4 - PROGRESS: at 30.82% examples, 837115 words/s, in_qsize 19, out_qsize 0\n",
      "2018-10-23 14:28:30,907 : INFO : EPOCH 4 - PROGRESS: at 33.78% examples, 836991 words/s, in_qsize 19, out_qsize 0\n",
      "2018-10-23 14:28:31,955 : INFO : EPOCH 4 - PROGRESS: at 37.27% examples, 845975 words/s, in_qsize 19, out_qsize 0\n",
      "2018-10-23 14:28:32,989 : INFO : EPOCH 4 - PROGRESS: at 40.22% examples, 842417 words/s, in_qsize 19, out_qsize 2\n",
      "2018-10-23 14:28:34,020 : INFO : EPOCH 4 - PROGRESS: at 42.22% examples, 821798 words/s, in_qsize 19, out_qsize 0\n",
      "2018-10-23 14:28:35,053 : INFO : EPOCH 4 - PROGRESS: at 44.09% examples, 803235 words/s, in_qsize 20, out_qsize 2\n",
      "2018-10-23 14:28:36,120 : INFO : EPOCH 4 - PROGRESS: at 46.25% examples, 788794 words/s, in_qsize 19, out_qsize 0\n",
      "2018-10-23 14:28:37,145 : INFO : EPOCH 4 - PROGRESS: at 47.96% examples, 773456 words/s, in_qsize 20, out_qsize 4\n",
      "2018-10-23 14:28:38,160 : INFO : EPOCH 4 - PROGRESS: at 50.32% examples, 767753 words/s, in_qsize 15, out_qsize 7\n",
      "2018-10-23 14:28:39,172 : INFO : EPOCH 4 - PROGRESS: at 52.69% examples, 765021 words/s, in_qsize 17, out_qsize 2\n",
      "2018-10-23 14:28:40,175 : INFO : EPOCH 4 - PROGRESS: at 55.29% examples, 764635 words/s, in_qsize 18, out_qsize 1\n",
      "2018-10-23 14:28:41,201 : INFO : EPOCH 4 - PROGRESS: at 57.05% examples, 752797 words/s, in_qsize 20, out_qsize 1\n",
      "2018-10-23 14:28:42,212 : INFO : EPOCH 4 - PROGRESS: at 59.41% examples, 749727 words/s, in_qsize 20, out_qsize 0\n",
      "2018-10-23 14:28:43,235 : INFO : EPOCH 4 - PROGRESS: at 62.34% examples, 753213 words/s, in_qsize 20, out_qsize 0\n",
      "2018-10-23 14:28:44,239 : INFO : EPOCH 4 - PROGRESS: at 65.44% examples, 756755 words/s, in_qsize 19, out_qsize 1\n",
      "2018-10-23 14:28:45,247 : INFO : EPOCH 4 - PROGRESS: at 68.01% examples, 756907 words/s, in_qsize 18, out_qsize 1\n",
      "2018-10-23 14:28:46,248 : INFO : EPOCH 4 - PROGRESS: at 70.89% examples, 761898 words/s, in_qsize 19, out_qsize 0\n",
      "2018-10-23 14:28:47,250 : INFO : EPOCH 4 - PROGRESS: at 73.86% examples, 764378 words/s, in_qsize 19, out_qsize 0\n",
      "2018-10-23 14:28:48,257 : INFO : EPOCH 4 - PROGRESS: at 76.47% examples, 766734 words/s, in_qsize 18, out_qsize 1\n",
      "2018-10-23 14:28:49,265 : INFO : EPOCH 4 - PROGRESS: at 79.07% examples, 767803 words/s, in_qsize 19, out_qsize 0\n",
      "2018-10-23 14:28:50,275 : INFO : EPOCH 4 - PROGRESS: at 82.03% examples, 771633 words/s, in_qsize 19, out_qsize 0\n",
      "2018-10-23 14:28:51,286 : INFO : EPOCH 4 - PROGRESS: at 85.12% examples, 776900 words/s, in_qsize 19, out_qsize 2\n",
      "2018-10-23 14:28:52,300 : INFO : EPOCH 4 - PROGRESS: at 88.52% examples, 781828 words/s, in_qsize 19, out_qsize 0\n",
      "2018-10-23 14:28:53,300 : INFO : EPOCH 4 - PROGRESS: at 91.48% examples, 783610 words/s, in_qsize 19, out_qsize 0\n",
      "2018-10-23 14:28:54,306 : INFO : EPOCH 4 - PROGRESS: at 94.47% examples, 786114 words/s, in_qsize 19, out_qsize 1\n",
      "2018-10-23 14:28:55,321 : INFO : EPOCH 4 - PROGRESS: at 97.75% examples, 790373 words/s, in_qsize 19, out_qsize 0\n",
      "2018-10-23 14:28:56,042 : INFO : worker thread finished; awaiting finish of 9 more threads\n",
      "2018-10-23 14:28:56,055 : INFO : worker thread finished; awaiting finish of 8 more threads\n",
      "2018-10-23 14:28:56,060 : INFO : worker thread finished; awaiting finish of 7 more threads\n",
      "2018-10-23 14:28:56,065 : INFO : worker thread finished; awaiting finish of 6 more threads\n",
      "2018-10-23 14:28:56,067 : INFO : worker thread finished; awaiting finish of 5 more threads\n",
      "2018-10-23 14:28:56,068 : INFO : worker thread finished; awaiting finish of 4 more threads\n",
      "2018-10-23 14:28:56,071 : INFO : worker thread finished; awaiting finish of 3 more threads\n",
      "2018-10-23 14:28:56,072 : INFO : worker thread finished; awaiting finish of 2 more threads\n",
      "2018-10-23 14:28:56,073 : INFO : worker thread finished; awaiting finish of 1 more threads\n",
      "2018-10-23 14:28:56,074 : INFO : worker thread finished; awaiting finish of 0 more threads\n",
      "2018-10-23 14:28:56,075 : INFO : EPOCH - 4 : training on 41519355 raw words (30349267 effective words) took 38.3s, 791501 effective words/s\n",
      "2018-10-23 14:28:57,082 : INFO : EPOCH 5 - PROGRESS: at 2.95% examples, 915428 words/s, in_qsize 19, out_qsize 0\n",
      "2018-10-23 14:28:58,099 : INFO : EPOCH 5 - PROGRESS: at 5.77% examples, 882366 words/s, in_qsize 19, out_qsize 0\n",
      "2018-10-23 14:28:59,108 : INFO : EPOCH 5 - PROGRESS: at 7.62% examples, 778927 words/s, in_qsize 19, out_qsize 0\n",
      "2018-10-23 14:29:00,127 : INFO : EPOCH 5 - PROGRESS: at 9.70% examples, 754698 words/s, in_qsize 16, out_qsize 3\n",
      "2018-10-23 14:29:01,138 : INFO : EPOCH 5 - PROGRESS: at 12.05% examples, 781544 words/s, in_qsize 19, out_qsize 0\n",
      "2018-10-23 14:29:02,143 : INFO : EPOCH 5 - PROGRESS: at 14.47% examples, 789682 words/s, in_qsize 19, out_qsize 0\n",
      "2018-10-23 14:29:03,155 : INFO : EPOCH 5 - PROGRESS: at 16.91% examples, 797004 words/s, in_qsize 19, out_qsize 0\n",
      "2018-10-23 14:29:04,158 : INFO : EPOCH 5 - PROGRESS: at 19.32% examples, 810886 words/s, in_qsize 19, out_qsize 0\n",
      "2018-10-23 14:29:05,159 : INFO : EPOCH 5 - PROGRESS: at 21.84% examples, 816189 words/s, in_qsize 17, out_qsize 2\n",
      "2018-10-23 14:29:06,169 : INFO : EPOCH 5 - PROGRESS: at 23.66% examples, 804431 words/s, in_qsize 19, out_qsize 0\n",
      "2018-10-23 14:29:07,172 : INFO : EPOCH 5 - PROGRESS: at 25.50% examples, 786110 words/s, in_qsize 19, out_qsize 0\n",
      "2018-10-23 14:29:08,181 : INFO : EPOCH 5 - PROGRESS: at 28.34% examples, 783940 words/s, in_qsize 19, out_qsize 0\n"
     ]
    },
    {
     "name": "stderr",
     "output_type": "stream",
     "text": [
      "2018-10-23 14:29:09,188 : INFO : EPOCH 5 - PROGRESS: at 31.62% examples, 792473 words/s, in_qsize 20, out_qsize 0\n",
      "2018-10-23 14:29:10,192 : INFO : EPOCH 5 - PROGRESS: at 34.68% examples, 800070 words/s, in_qsize 19, out_qsize 0\n",
      "2018-10-23 14:29:11,213 : INFO : EPOCH 5 - PROGRESS: at 37.40% examples, 797514 words/s, in_qsize 17, out_qsize 2\n",
      "2018-10-23 14:29:12,237 : INFO : EPOCH 5 - PROGRESS: at 40.18% examples, 794693 words/s, in_qsize 19, out_qsize 0\n",
      "2018-10-23 14:29:13,255 : INFO : EPOCH 5 - PROGRESS: at 41.96% examples, 774892 words/s, in_qsize 20, out_qsize 1\n",
      "2018-10-23 14:29:14,271 : INFO : EPOCH 5 - PROGRESS: at 44.32% examples, 768103 words/s, in_qsize 16, out_qsize 3\n",
      "2018-10-23 14:29:15,283 : INFO : EPOCH 5 - PROGRESS: at 47.49% examples, 774839 words/s, in_qsize 19, out_qsize 0\n",
      "2018-10-23 14:29:16,284 : INFO : EPOCH 5 - PROGRESS: at 50.74% examples, 782465 words/s, in_qsize 19, out_qsize 0\n",
      "2018-10-23 14:29:17,287 : INFO : EPOCH 5 - PROGRESS: at 53.19% examples, 781373 words/s, in_qsize 18, out_qsize 1\n",
      "2018-10-23 14:29:18,304 : INFO : EPOCH 5 - PROGRESS: at 56.42% examples, 786888 words/s, in_qsize 19, out_qsize 0\n",
      "2018-10-23 14:29:19,307 : INFO : EPOCH 5 - PROGRESS: at 59.67% examples, 793388 words/s, in_qsize 19, out_qsize 0\n",
      "2018-10-23 14:29:20,308 : INFO : EPOCH 5 - PROGRESS: at 62.49% examples, 794711 words/s, in_qsize 19, out_qsize 0\n",
      "2018-10-23 14:29:21,310 : INFO : EPOCH 5 - PROGRESS: at 65.45% examples, 795406 words/s, in_qsize 19, out_qsize 0\n",
      "2018-10-23 14:29:22,319 : INFO : EPOCH 5 - PROGRESS: at 67.26% examples, 785557 words/s, in_qsize 17, out_qsize 2\n",
      "2018-10-23 14:29:23,321 : INFO : EPOCH 5 - PROGRESS: at 69.73% examples, 784143 words/s, in_qsize 19, out_qsize 0\n",
      "2018-10-23 14:29:24,341 : INFO : EPOCH 5 - PROGRESS: at 72.46% examples, 785206 words/s, in_qsize 19, out_qsize 0\n",
      "2018-10-23 14:29:25,349 : INFO : EPOCH 5 - PROGRESS: at 75.46% examples, 788198 words/s, in_qsize 17, out_qsize 2\n",
      "2018-10-23 14:29:26,352 : INFO : EPOCH 5 - PROGRESS: at 78.41% examples, 793436 words/s, in_qsize 19, out_qsize 0\n",
      "2018-10-23 14:29:27,360 : INFO : EPOCH 5 - PROGRESS: at 81.76% examples, 800522 words/s, in_qsize 15, out_qsize 4\n",
      "2018-10-23 14:29:28,364 : INFO : EPOCH 5 - PROGRESS: at 83.80% examples, 794621 words/s, in_qsize 18, out_qsize 1\n",
      "2018-10-23 14:29:29,368 : INFO : EPOCH 5 - PROGRESS: at 85.69% examples, 788322 words/s, in_qsize 19, out_qsize 0\n",
      "2018-10-23 14:29:30,372 : INFO : EPOCH 5 - PROGRESS: at 88.07% examples, 784607 words/s, in_qsize 19, out_qsize 0\n",
      "2018-10-23 14:29:31,387 : INFO : EPOCH 5 - PROGRESS: at 90.14% examples, 778644 words/s, in_qsize 15, out_qsize 4\n",
      "2018-10-23 14:29:32,407 : INFO : EPOCH 5 - PROGRESS: at 92.46% examples, 774879 words/s, in_qsize 18, out_qsize 1\n",
      "2018-10-23 14:29:33,419 : INFO : EPOCH 5 - PROGRESS: at 94.66% examples, 771652 words/s, in_qsize 18, out_qsize 1\n",
      "2018-10-23 14:29:34,430 : INFO : EPOCH 5 - PROGRESS: at 96.94% examples, 768586 words/s, in_qsize 19, out_qsize 0\n",
      "2018-10-23 14:29:35,436 : INFO : EPOCH 5 - PROGRESS: at 99.28% examples, 766009 words/s, in_qsize 17, out_qsize 2\n",
      "2018-10-23 14:29:35,653 : INFO : worker thread finished; awaiting finish of 9 more threads\n",
      "2018-10-23 14:29:35,654 : INFO : worker thread finished; awaiting finish of 8 more threads\n",
      "2018-10-23 14:29:35,655 : INFO : worker thread finished; awaiting finish of 7 more threads\n",
      "2018-10-23 14:29:35,656 : INFO : worker thread finished; awaiting finish of 6 more threads\n",
      "2018-10-23 14:29:35,663 : INFO : worker thread finished; awaiting finish of 5 more threads\n",
      "2018-10-23 14:29:35,685 : INFO : worker thread finished; awaiting finish of 4 more threads\n",
      "2018-10-23 14:29:35,691 : INFO : worker thread finished; awaiting finish of 3 more threads\n",
      "2018-10-23 14:29:35,693 : INFO : worker thread finished; awaiting finish of 2 more threads\n",
      "2018-10-23 14:29:35,702 : INFO : worker thread finished; awaiting finish of 1 more threads\n",
      "2018-10-23 14:29:35,707 : INFO : worker thread finished; awaiting finish of 0 more threads\n",
      "2018-10-23 14:29:35,708 : INFO : EPOCH - 5 : training on 41519355 raw words (30350738 effective words) took 39.6s, 765916 effective words/s\n",
      "2018-10-23 14:29:35,709 : INFO : training on a 207596775 raw words (151749312 effective words) took 175.7s, 863876 effective words/s\n",
      "2018-10-23 14:29:35,710 : WARNING : Effective 'alpha' higher than previous training cycles\n",
      "2018-10-23 14:29:35,710 : INFO : training model with 10 workers on 70538 vocabulary and 150 features, using sg=0 hs=0 sample=0.001 negative=5 window=10\n",
      "2018-10-23 14:29:36,774 : INFO : EPOCH 1 - PROGRESS: at 2.46% examples, 739752 words/s, in_qsize 19, out_qsize 0\n",
      "2018-10-23 14:29:37,780 : INFO : EPOCH 1 - PROGRESS: at 4.17% examples, 623720 words/s, in_qsize 19, out_qsize 0\n",
      "2018-10-23 14:29:38,787 : INFO : EPOCH 1 - PROGRESS: at 6.14% examples, 618276 words/s, in_qsize 20, out_qsize 0\n",
      "2018-10-23 14:29:39,789 : INFO : EPOCH 1 - PROGRESS: at 8.33% examples, 633957 words/s, in_qsize 17, out_qsize 2\n",
      "2018-10-23 14:29:40,791 : INFO : EPOCH 1 - PROGRESS: at 10.53% examples, 664743 words/s, in_qsize 17, out_qsize 2\n",
      "2018-10-23 14:29:41,792 : INFO : EPOCH 1 - PROGRESS: at 12.21% examples, 662694 words/s, in_qsize 19, out_qsize 0\n",
      "2018-10-23 14:29:42,820 : INFO : EPOCH 1 - PROGRESS: at 13.92% examples, 647800 words/s, in_qsize 18, out_qsize 1\n",
      "2018-10-23 14:29:43,837 : INFO : EPOCH 1 - PROGRESS: at 15.68% examples, 638651 words/s, in_qsize 18, out_qsize 1\n",
      "2018-10-23 14:29:44,845 : INFO : EPOCH 1 - PROGRESS: at 17.46% examples, 640886 words/s, in_qsize 19, out_qsize 0\n",
      "2018-10-23 14:29:45,863 : INFO : EPOCH 1 - PROGRESS: at 19.56% examples, 655013 words/s, in_qsize 19, out_qsize 0\n",
      "2018-10-23 14:29:46,865 : INFO : EPOCH 1 - PROGRESS: at 21.84% examples, 664752 words/s, in_qsize 19, out_qsize 0\n",
      "2018-10-23 14:29:47,869 : INFO : EPOCH 1 - PROGRESS: at 24.31% examples, 688585 words/s, in_qsize 18, out_qsize 1\n",
      "2018-10-23 14:29:48,870 : INFO : EPOCH 1 - PROGRESS: at 28.06% examples, 714672 words/s, in_qsize 19, out_qsize 0\n",
      "2018-10-23 14:29:49,873 : INFO : EPOCH 1 - PROGRESS: at 31.91% examples, 738947 words/s, in_qsize 19, out_qsize 0\n",
      "2018-10-23 14:29:50,874 : INFO : EPOCH 1 - PROGRESS: at 35.44% examples, 759276 words/s, in_qsize 19, out_qsize 0\n",
      "2018-10-23 14:29:51,874 : INFO : EPOCH 1 - PROGRESS: at 39.08% examples, 775996 words/s, in_qsize 19, out_qsize 0\n",
      "2018-10-23 14:29:52,882 : INFO : EPOCH 1 - PROGRESS: at 41.81% examples, 773298 words/s, in_qsize 16, out_qsize 3\n",
      "2018-10-23 14:29:53,894 : INFO : EPOCH 1 - PROGRESS: at 44.51% examples, 771462 words/s, in_qsize 19, out_qsize 0\n",
      "2018-10-23 14:29:54,921 : INFO : EPOCH 1 - PROGRESS: at 46.69% examples, 762478 words/s, in_qsize 19, out_qsize 0\n",
      "2018-10-23 14:29:55,940 : INFO : EPOCH 1 - PROGRESS: at 49.42% examples, 762570 words/s, in_qsize 19, out_qsize 0\n",
      "2018-10-23 14:29:56,959 : INFO : EPOCH 1 - PROGRESS: at 52.67% examples, 772022 words/s, in_qsize 20, out_qsize 0\n",
      "2018-10-23 14:29:58,070 : INFO : EPOCH 1 - PROGRESS: at 55.42% examples, 769518 words/s, in_qsize 17, out_qsize 2\n",
      "2018-10-23 14:29:59,093 : INFO : EPOCH 1 - PROGRESS: at 57.27% examples, 758385 words/s, in_qsize 19, out_qsize 0\n",
      "2018-10-23 14:30:00,099 : INFO : EPOCH 1 - PROGRESS: at 58.87% examples, 746645 words/s, in_qsize 19, out_qsize 0\n",
      "2018-10-23 14:30:01,102 : INFO : EPOCH 1 - PROGRESS: at 60.96% examples, 740552 words/s, in_qsize 19, out_qsize 0\n",
      "2018-10-23 14:30:02,103 : INFO : EPOCH 1 - PROGRESS: at 64.45% examples, 748885 words/s, in_qsize 19, out_qsize 0\n",
      "2018-10-23 14:30:03,105 : INFO : EPOCH 1 - PROGRESS: at 67.36% examples, 753672 words/s, in_qsize 19, out_qsize 0\n",
      "2018-10-23 14:30:04,123 : INFO : EPOCH 1 - PROGRESS: at 70.05% examples, 755821 words/s, in_qsize 18, out_qsize 1\n",
      "2018-10-23 14:30:05,137 : INFO : EPOCH 1 - PROGRESS: at 72.48% examples, 754320 words/s, in_qsize 19, out_qsize 0\n",
      "2018-10-23 14:30:06,156 : INFO : EPOCH 1 - PROGRESS: at 74.82% examples, 751016 words/s, in_qsize 19, out_qsize 0\n",
      "2018-10-23 14:30:07,157 : INFO : EPOCH 1 - PROGRESS: at 77.07% examples, 750276 words/s, in_qsize 19, out_qsize 0\n",
      "2018-10-23 14:30:08,179 : INFO : EPOCH 1 - PROGRESS: at 80.48% examples, 759241 words/s, in_qsize 19, out_qsize 0\n",
      "2018-10-23 14:30:09,184 : INFO : EPOCH 1 - PROGRESS: at 84.17% examples, 769793 words/s, in_qsize 19, out_qsize 0\n"
     ]
    },
    {
     "name": "stderr",
     "output_type": "stream",
     "text": [
      "2018-10-23 14:30:10,190 : INFO : EPOCH 1 - PROGRESS: at 87.91% examples, 779062 words/s, in_qsize 18, out_qsize 1\n",
      "2018-10-23 14:30:11,201 : INFO : EPOCH 1 - PROGRESS: at 91.14% examples, 782698 words/s, in_qsize 18, out_qsize 1\n",
      "2018-10-23 14:30:12,230 : INFO : EPOCH 1 - PROGRESS: at 94.00% examples, 783744 words/s, in_qsize 19, out_qsize 0\n",
      "2018-10-23 14:30:13,233 : INFO : EPOCH 1 - PROGRESS: at 97.07% examples, 786656 words/s, in_qsize 19, out_qsize 0\n",
      "2018-10-23 14:30:14,188 : INFO : worker thread finished; awaiting finish of 9 more threads\n",
      "2018-10-23 14:30:14,198 : INFO : worker thread finished; awaiting finish of 8 more threads\n",
      "2018-10-23 14:30:14,202 : INFO : worker thread finished; awaiting finish of 7 more threads\n",
      "2018-10-23 14:30:14,213 : INFO : worker thread finished; awaiting finish of 6 more threads\n",
      "2018-10-23 14:30:14,224 : INFO : worker thread finished; awaiting finish of 5 more threads\n",
      "2018-10-23 14:30:14,232 : INFO : worker thread finished; awaiting finish of 4 more threads\n",
      "2018-10-23 14:30:14,233 : INFO : EPOCH 1 - PROGRESS: at 99.93% examples, 787457 words/s, in_qsize 3, out_qsize 1\n",
      "2018-10-23 14:30:14,236 : INFO : worker thread finished; awaiting finish of 3 more threads\n",
      "2018-10-23 14:30:14,243 : INFO : worker thread finished; awaiting finish of 2 more threads\n",
      "2018-10-23 14:30:14,249 : INFO : worker thread finished; awaiting finish of 1 more threads\n",
      "2018-10-23 14:30:14,254 : INFO : worker thread finished; awaiting finish of 0 more threads\n",
      "2018-10-23 14:30:14,255 : INFO : EPOCH - 1 : training on 41519355 raw words (30348936 effective words) took 38.5s, 787585 effective words/s\n",
      "2018-10-23 14:30:15,260 : INFO : EPOCH 2 - PROGRESS: at 2.66% examples, 836913 words/s, in_qsize 19, out_qsize 0\n",
      "2018-10-23 14:30:16,268 : INFO : EPOCH 2 - PROGRESS: at 5.35% examples, 823413 words/s, in_qsize 18, out_qsize 1\n",
      "2018-10-23 14:30:17,277 : INFO : EPOCH 2 - PROGRESS: at 8.02% examples, 824288 words/s, in_qsize 19, out_qsize 0\n",
      "2018-10-23 14:30:18,279 : INFO : EPOCH 2 - PROGRESS: at 10.14% examples, 804494 words/s, in_qsize 19, out_qsize 0\n",
      "2018-10-23 14:30:19,288 : INFO : EPOCH 2 - PROGRESS: at 12.53% examples, 823135 words/s, in_qsize 18, out_qsize 1\n",
      "2018-10-23 14:30:20,291 : INFO : EPOCH 2 - PROGRESS: at 14.23% examples, 780615 words/s, in_qsize 19, out_qsize 0\n",
      "2018-10-23 14:30:21,302 : INFO : EPOCH 2 - PROGRESS: at 16.02% examples, 754753 words/s, in_qsize 19, out_qsize 0\n",
      "2018-10-23 14:30:22,339 : INFO : EPOCH 2 - PROGRESS: at 17.77% examples, 739018 words/s, in_qsize 19, out_qsize 0\n",
      "2018-10-23 14:30:23,357 : INFO : EPOCH 2 - PROGRESS: at 19.45% examples, 725523 words/s, in_qsize 16, out_qsize 3\n",
      "2018-10-23 14:30:24,359 : INFO : EPOCH 2 - PROGRESS: at 21.30% examples, 718745 words/s, in_qsize 18, out_qsize 1\n",
      "2018-10-23 14:30:25,364 : INFO : EPOCH 2 - PROGRESS: at 23.41% examples, 722324 words/s, in_qsize 19, out_qsize 0\n",
      "2018-10-23 14:30:26,384 : INFO : EPOCH 2 - PROGRESS: at 25.26% examples, 713745 words/s, in_qsize 19, out_qsize 0\n",
      "2018-10-23 14:30:27,404 : INFO : EPOCH 2 - PROGRESS: at 28.44% examples, 723796 words/s, in_qsize 19, out_qsize 0\n",
      "2018-10-23 14:30:28,416 : INFO : EPOCH 2 - PROGRESS: at 30.53% examples, 714302 words/s, in_qsize 19, out_qsize 0\n",
      "2018-10-23 14:30:29,420 : INFO : EPOCH 2 - PROGRESS: at 33.42% examples, 719318 words/s, in_qsize 19, out_qsize 0\n",
      "2018-10-23 14:30:30,465 : INFO : EPOCH 2 - PROGRESS: at 35.45% examples, 710422 words/s, in_qsize 19, out_qsize 2\n",
      "2018-10-23 14:30:31,472 : INFO : EPOCH 2 - PROGRESS: at 38.24% examples, 714433 words/s, in_qsize 19, out_qsize 0\n",
      "2018-10-23 14:30:32,489 : INFO : EPOCH 2 - PROGRESS: at 39.92% examples, 700693 words/s, in_qsize 19, out_qsize 0\n",
      "2018-10-23 14:30:33,540 : INFO : EPOCH 2 - PROGRESS: at 41.89% examples, 689435 words/s, in_qsize 19, out_qsize 0\n",
      "2018-10-23 14:30:34,544 : INFO : EPOCH 2 - PROGRESS: at 45.42% examples, 703241 words/s, in_qsize 19, out_qsize 0\n",
      "2018-10-23 14:30:35,603 : INFO : EPOCH 2 - PROGRESS: at 47.74% examples, 700412 words/s, in_qsize 19, out_qsize 0\n",
      "2018-10-23 14:30:36,620 : INFO : EPOCH 2 - PROGRESS: at 50.06% examples, 697881 words/s, in_qsize 19, out_qsize 0\n",
      "2018-10-23 14:30:37,623 : INFO : EPOCH 2 - PROGRESS: at 52.67% examples, 701776 words/s, in_qsize 19, out_qsize 0\n",
      "2018-10-23 14:30:38,665 : INFO : EPOCH 2 - PROGRESS: at 55.43% examples, 704944 words/s, in_qsize 14, out_qsize 5\n",
      "2018-10-23 14:30:39,672 : INFO : EPOCH 2 - PROGRESS: at 58.07% examples, 707147 words/s, in_qsize 19, out_qsize 0\n",
      "2018-10-23 14:30:40,684 : INFO : EPOCH 2 - PROGRESS: at 60.85% examples, 710228 words/s, in_qsize 19, out_qsize 0\n",
      "2018-10-23 14:30:41,692 : INFO : EPOCH 2 - PROGRESS: at 64.05% examples, 716516 words/s, in_qsize 19, out_qsize 0\n",
      "2018-10-23 14:30:42,693 : INFO : EPOCH 2 - PROGRESS: at 67.66% examples, 728889 words/s, in_qsize 19, out_qsize 0\n",
      "2018-10-23 14:30:43,707 : INFO : EPOCH 2 - PROGRESS: at 71.19% examples, 740992 words/s, in_qsize 18, out_qsize 1\n",
      "2018-10-23 14:30:44,715 : INFO : EPOCH 2 - PROGRESS: at 75.01% examples, 752843 words/s, in_qsize 16, out_qsize 3\n",
      "2018-10-23 14:30:45,732 : INFO : EPOCH 2 - PROGRESS: at 77.81% examples, 757093 words/s, in_qsize 17, out_qsize 2\n",
      "2018-10-23 14:30:46,736 : INFO : EPOCH 2 - PROGRESS: at 80.52% examples, 759206 words/s, in_qsize 20, out_qsize 0\n",
      "2018-10-23 14:30:47,749 : INFO : EPOCH 2 - PROGRESS: at 83.52% examples, 763303 words/s, in_qsize 19, out_qsize 0\n",
      "2018-10-23 14:30:48,770 : INFO : EPOCH 2 - PROGRESS: at 87.22% examples, 772830 words/s, in_qsize 20, out_qsize 0\n",
      "2018-10-23 14:30:49,771 : INFO : EPOCH 2 - PROGRESS: at 91.33% examples, 783605 words/s, in_qsize 19, out_qsize 0\n",
      "2018-10-23 14:30:50,794 : INFO : EPOCH 2 - PROGRESS: at 94.84% examples, 789932 words/s, in_qsize 18, out_qsize 1\n",
      "2018-10-23 14:30:51,804 : INFO : EPOCH 2 - PROGRESS: at 98.38% examples, 796117 words/s, in_qsize 19, out_qsize 0\n",
      "2018-10-23 14:30:52,151 : INFO : worker thread finished; awaiting finish of 9 more threads\n",
      "2018-10-23 14:30:52,169 : INFO : worker thread finished; awaiting finish of 8 more threads\n",
      "2018-10-23 14:30:52,170 : INFO : worker thread finished; awaiting finish of 7 more threads\n",
      "2018-10-23 14:30:52,192 : INFO : worker thread finished; awaiting finish of 6 more threads\n",
      "2018-10-23 14:30:52,193 : INFO : worker thread finished; awaiting finish of 5 more threads\n",
      "2018-10-23 14:30:52,194 : INFO : worker thread finished; awaiting finish of 4 more threads\n",
      "2018-10-23 14:30:52,195 : INFO : worker thread finished; awaiting finish of 3 more threads\n",
      "2018-10-23 14:30:52,205 : INFO : worker thread finished; awaiting finish of 2 more threads\n",
      "2018-10-23 14:30:52,210 : INFO : worker thread finished; awaiting finish of 1 more threads\n",
      "2018-10-23 14:30:52,212 : INFO : worker thread finished; awaiting finish of 0 more threads\n",
      "2018-10-23 14:30:52,212 : INFO : EPOCH - 2 : training on 41519355 raw words (30346873 effective words) took 38.0s, 799621 effective words/s\n",
      "2018-10-23 14:30:53,221 : INFO : EPOCH 3 - PROGRESS: at 3.04% examples, 942360 words/s, in_qsize 19, out_qsize 0\n",
      "2018-10-23 14:30:54,230 : INFO : EPOCH 3 - PROGRESS: at 6.92% examples, 1057388 words/s, in_qsize 19, out_qsize 0\n",
      "2018-10-23 14:30:55,233 : INFO : EPOCH 3 - PROGRESS: at 10.19% examples, 1079685 words/s, in_qsize 18, out_qsize 1\n",
      "2018-10-23 14:30:56,252 : INFO : EPOCH 3 - PROGRESS: at 12.79% examples, 1047712 words/s, in_qsize 19, out_qsize 0\n",
      "2018-10-23 14:30:57,269 : INFO : EPOCH 3 - PROGRESS: at 15.08% examples, 989257 words/s, in_qsize 20, out_qsize 1\n",
      "2018-10-23 14:30:58,269 : INFO : EPOCH 3 - PROGRESS: at 17.67% examples, 980724 words/s, in_qsize 18, out_qsize 1\n",
      "2018-10-23 14:30:59,270 : INFO : EPOCH 3 - PROGRESS: at 20.22% examples, 978623 words/s, in_qsize 19, out_qsize 0\n",
      "2018-10-23 14:31:00,273 : INFO : EPOCH 3 - PROGRESS: at 23.05% examples, 978000 words/s, in_qsize 18, out_qsize 1\n",
      "2018-10-23 14:31:01,289 : INFO : EPOCH 3 - PROGRESS: at 25.91% examples, 974000 words/s, in_qsize 19, out_qsize 0\n",
      "2018-10-23 14:31:02,321 : INFO : EPOCH 3 - PROGRESS: at 29.49% examples, 971635 words/s, in_qsize 18, out_qsize 1\n",
      "2018-10-23 14:31:03,324 : INFO : EPOCH 3 - PROGRESS: at 33.07% examples, 972823 words/s, in_qsize 19, out_qsize 0\n",
      "2018-10-23 14:31:04,330 : INFO : EPOCH 3 - PROGRESS: at 35.17% examples, 944077 words/s, in_qsize 18, out_qsize 1\n"
     ]
    },
    {
     "name": "stderr",
     "output_type": "stream",
     "text": [
      "2018-10-23 14:31:05,347 : INFO : EPOCH 3 - PROGRESS: at 38.20% examples, 936126 words/s, in_qsize 18, out_qsize 1\n",
      "2018-10-23 14:31:06,350 : INFO : EPOCH 3 - PROGRESS: at 42.22% examples, 947262 words/s, in_qsize 19, out_qsize 0\n",
      "2018-10-23 14:31:07,350 : INFO : EPOCH 3 - PROGRESS: at 46.18% examples, 957130 words/s, in_qsize 19, out_qsize 0\n",
      "2018-10-23 14:31:08,352 : INFO : EPOCH 3 - PROGRESS: at 49.05% examples, 949089 words/s, in_qsize 19, out_qsize 0\n",
      "2018-10-23 14:31:09,355 : INFO : EPOCH 3 - PROGRESS: at 52.54% examples, 953908 words/s, in_qsize 17, out_qsize 2\n",
      "2018-10-23 14:31:10,356 : INFO : EPOCH 3 - PROGRESS: at 54.77% examples, 939464 words/s, in_qsize 19, out_qsize 0\n",
      "2018-10-23 14:31:11,359 : INFO : EPOCH 3 - PROGRESS: at 57.70% examples, 932966 words/s, in_qsize 19, out_qsize 0\n",
      "2018-10-23 14:31:12,364 : INFO : EPOCH 3 - PROGRESS: at 60.37% examples, 925184 words/s, in_qsize 14, out_qsize 5\n",
      "2018-10-23 14:31:13,368 : INFO : EPOCH 3 - PROGRESS: at 63.70% examples, 925385 words/s, in_qsize 20, out_qsize 0\n",
      "2018-10-23 14:31:14,371 : INFO : EPOCH 3 - PROGRESS: at 67.49% examples, 933696 words/s, in_qsize 18, out_qsize 1\n",
      "2018-10-23 14:31:15,386 : INFO : EPOCH 3 - PROGRESS: at 71.27% examples, 942854 words/s, in_qsize 20, out_qsize 0\n",
      "2018-10-23 14:31:16,414 : INFO : EPOCH 3 - PROGRESS: at 74.92% examples, 946265 words/s, in_qsize 19, out_qsize 0\n",
      "2018-10-23 14:31:17,418 : INFO : EPOCH 3 - PROGRESS: at 77.90% examples, 946510 words/s, in_qsize 19, out_qsize 0\n",
      "2018-10-23 14:31:18,434 : INFO : EPOCH 3 - PROGRESS: at 81.16% examples, 948549 words/s, in_qsize 20, out_qsize 1\n",
      "2018-10-23 14:31:19,442 : INFO : EPOCH 3 - PROGRESS: at 84.70% examples, 952778 words/s, in_qsize 19, out_qsize 0\n",
      "2018-10-23 14:31:20,444 : INFO : EPOCH 3 - PROGRESS: at 88.37% examples, 956213 words/s, in_qsize 20, out_qsize 0\n",
      "2018-10-23 14:31:21,445 : INFO : EPOCH 3 - PROGRESS: at 91.87% examples, 957598 words/s, in_qsize 19, out_qsize 0\n",
      "2018-10-23 14:31:22,451 : INFO : EPOCH 3 - PROGRESS: at 95.71% examples, 962751 words/s, in_qsize 19, out_qsize 0\n",
      "2018-10-23 14:31:23,456 : INFO : EPOCH 3 - PROGRESS: at 99.46% examples, 966596 words/s, in_qsize 19, out_qsize 0\n",
      "2018-10-23 14:31:23,531 : INFO : worker thread finished; awaiting finish of 9 more threads\n",
      "2018-10-23 14:31:23,532 : INFO : worker thread finished; awaiting finish of 8 more threads\n",
      "2018-10-23 14:31:23,533 : INFO : worker thread finished; awaiting finish of 7 more threads\n",
      "2018-10-23 14:31:23,551 : INFO : worker thread finished; awaiting finish of 6 more threads\n",
      "2018-10-23 14:31:23,553 : INFO : worker thread finished; awaiting finish of 5 more threads\n",
      "2018-10-23 14:31:23,555 : INFO : worker thread finished; awaiting finish of 4 more threads\n",
      "2018-10-23 14:31:23,573 : INFO : worker thread finished; awaiting finish of 3 more threads\n",
      "2018-10-23 14:31:23,575 : INFO : worker thread finished; awaiting finish of 2 more threads\n",
      "2018-10-23 14:31:23,577 : INFO : worker thread finished; awaiting finish of 1 more threads\n",
      "2018-10-23 14:31:23,582 : INFO : worker thread finished; awaiting finish of 0 more threads\n",
      "2018-10-23 14:31:23,582 : INFO : EPOCH - 3 : training on 41519355 raw words (30348927 effective words) took 31.4s, 967625 effective words/s\n",
      "2018-10-23 14:31:24,592 : INFO : EPOCH 4 - PROGRESS: at 3.13% examples, 970751 words/s, in_qsize 19, out_qsize 2\n",
      "2018-10-23 14:31:25,597 : INFO : EPOCH 4 - PROGRESS: at 5.54% examples, 851256 words/s, in_qsize 20, out_qsize 0\n",
      "2018-10-23 14:31:26,602 : INFO : EPOCH 4 - PROGRESS: at 8.63% examples, 884670 words/s, in_qsize 19, out_qsize 0\n",
      "2018-10-23 14:31:27,603 : INFO : EPOCH 4 - PROGRESS: at 11.45% examples, 925545 words/s, in_qsize 18, out_qsize 1\n",
      "2018-10-23 14:31:28,614 : INFO : EPOCH 4 - PROGRESS: at 14.58% examples, 959754 words/s, in_qsize 19, out_qsize 0\n",
      "2018-10-23 14:31:29,638 : INFO : EPOCH 4 - PROGRESS: at 17.66% examples, 979783 words/s, in_qsize 18, out_qsize 1\n",
      "2018-10-23 14:31:30,649 : INFO : EPOCH 4 - PROGRESS: at 20.16% examples, 974374 words/s, in_qsize 17, out_qsize 2\n",
      "2018-10-23 14:31:31,667 : INFO : EPOCH 4 - PROGRESS: at 23.13% examples, 978698 words/s, in_qsize 18, out_qsize 1\n",
      "2018-10-23 14:31:32,677 : INFO : EPOCH 4 - PROGRESS: at 26.56% examples, 990423 words/s, in_qsize 19, out_qsize 0\n",
      "2018-10-23 14:31:33,678 : INFO : EPOCH 4 - PROGRESS: at 30.10% examples, 990147 words/s, in_qsize 19, out_qsize 0\n",
      "2018-10-23 14:31:34,712 : INFO : EPOCH 4 - PROGRESS: at 33.26% examples, 975809 words/s, in_qsize 19, out_qsize 0\n",
      "2018-10-23 14:31:35,713 : INFO : EPOCH 4 - PROGRESS: at 36.19% examples, 966336 words/s, in_qsize 19, out_qsize 0\n",
      "2018-10-23 14:31:36,810 : INFO : EPOCH 4 - PROGRESS: at 38.58% examples, 937369 words/s, in_qsize 18, out_qsize 1\n",
      "2018-10-23 14:31:37,845 : INFO : EPOCH 4 - PROGRESS: at 41.18% examples, 919902 words/s, in_qsize 19, out_qsize 0\n",
      "2018-10-23 14:31:38,897 : INFO : EPOCH 4 - PROGRESS: at 43.81% examples, 904275 words/s, in_qsize 19, out_qsize 0\n",
      "2018-10-23 14:31:39,900 : INFO : EPOCH 4 - PROGRESS: at 46.52% examples, 894620 words/s, in_qsize 18, out_qsize 1\n",
      "2018-10-23 14:31:40,902 : INFO : EPOCH 4 - PROGRESS: at 48.44% examples, 875318 words/s, in_qsize 17, out_qsize 4\n",
      "2018-10-23 14:31:41,970 : INFO : EPOCH 4 - PROGRESS: at 50.57% examples, 857334 words/s, in_qsize 17, out_qsize 3\n",
      "2018-10-23 14:31:42,976 : INFO : EPOCH 4 - PROGRESS: at 53.34% examples, 857309 words/s, in_qsize 20, out_qsize 0\n",
      "2018-10-23 14:31:43,985 : INFO : EPOCH 4 - PROGRESS: at 57.00% examples, 865658 words/s, in_qsize 19, out_qsize 0\n",
      "2018-10-23 14:31:45,044 : INFO : EPOCH 4 - PROGRESS: at 59.95% examples, 862998 words/s, in_qsize 20, out_qsize 0\n",
      "2018-10-23 14:31:46,053 : INFO : EPOCH 4 - PROGRESS: at 62.57% examples, 858024 words/s, in_qsize 19, out_qsize 0\n",
      "2018-10-23 14:31:47,074 : INFO : EPOCH 4 - PROGRESS: at 65.92% examples, 860971 words/s, in_qsize 16, out_qsize 3\n",
      "2018-10-23 14:31:48,080 : INFO : EPOCH 4 - PROGRESS: at 68.87% examples, 861364 words/s, in_qsize 19, out_qsize 0\n",
      "2018-10-23 14:31:49,097 : INFO : EPOCH 4 - PROGRESS: at 72.32% examples, 868285 words/s, in_qsize 19, out_qsize 0\n",
      "2018-10-23 14:31:50,115 : INFO : EPOCH 4 - PROGRESS: at 75.33% examples, 868097 words/s, in_qsize 19, out_qsize 0\n",
      "2018-10-23 14:31:51,120 : INFO : EPOCH 4 - PROGRESS: at 77.55% examples, 862524 words/s, in_qsize 18, out_qsize 1\n",
      "2018-10-23 14:31:52,125 : INFO : EPOCH 4 - PROGRESS: at 80.14% examples, 860202 words/s, in_qsize 19, out_qsize 0\n",
      "2018-10-23 14:31:53,149 : INFO : EPOCH 4 - PROGRESS: at 82.90% examples, 858417 words/s, in_qsize 18, out_qsize 1\n",
      "2018-10-23 14:31:54,160 : INFO : EPOCH 4 - PROGRESS: at 85.34% examples, 855443 words/s, in_qsize 20, out_qsize 0\n",
      "2018-10-23 14:31:55,161 : INFO : EPOCH 4 - PROGRESS: at 88.63% examples, 857077 words/s, in_qsize 20, out_qsize 0\n",
      "2018-10-23 14:31:56,165 : INFO : EPOCH 4 - PROGRESS: at 92.09% examples, 861078 words/s, in_qsize 18, out_qsize 1\n",
      "2018-10-23 14:31:57,184 : INFO : EPOCH 4 - PROGRESS: at 95.26% examples, 862654 words/s, in_qsize 19, out_qsize 0\n",
      "2018-10-23 14:31:58,194 : INFO : EPOCH 4 - PROGRESS: at 97.81% examples, 859125 words/s, in_qsize 19, out_qsize 0\n",
      "2018-10-23 14:31:58,910 : INFO : worker thread finished; awaiting finish of 9 more threads\n",
      "2018-10-23 14:31:58,911 : INFO : worker thread finished; awaiting finish of 8 more threads\n",
      "2018-10-23 14:31:58,915 : INFO : worker thread finished; awaiting finish of 7 more threads\n",
      "2018-10-23 14:31:58,929 : INFO : worker thread finished; awaiting finish of 6 more threads\n",
      "2018-10-23 14:31:58,933 : INFO : worker thread finished; awaiting finish of 5 more threads\n",
      "2018-10-23 14:31:58,936 : INFO : worker thread finished; awaiting finish of 4 more threads\n",
      "2018-10-23 14:31:58,940 : INFO : worker thread finished; awaiting finish of 3 more threads\n",
      "2018-10-23 14:31:58,943 : INFO : worker thread finished; awaiting finish of 2 more threads\n",
      "2018-10-23 14:31:58,946 : INFO : worker thread finished; awaiting finish of 1 more threads\n",
      "2018-10-23 14:31:58,950 : INFO : worker thread finished; awaiting finish of 0 more threads\n",
      "2018-10-23 14:31:58,950 : INFO : EPOCH - 4 : training on 41519355 raw words (30354669 effective words) took 35.4s, 858400 effective words/s\n",
      "2018-10-23 14:31:59,964 : INFO : EPOCH 5 - PROGRESS: at 3.11% examples, 960532 words/s, in_qsize 19, out_qsize 0\n"
     ]
    },
    {
     "name": "stderr",
     "output_type": "stream",
     "text": [
      "2018-10-23 14:32:00,964 : INFO : EPOCH 5 - PROGRESS: at 6.06% examples, 934217 words/s, in_qsize 19, out_qsize 0\n",
      "2018-10-23 14:32:01,966 : INFO : EPOCH 5 - PROGRESS: at 9.03% examples, 934165 words/s, in_qsize 19, out_qsize 0\n",
      "2018-10-23 14:32:02,977 : INFO : EPOCH 5 - PROGRESS: at 11.19% examples, 901204 words/s, in_qsize 19, out_qsize 0\n",
      "2018-10-23 14:32:03,981 : INFO : EPOCH 5 - PROGRESS: at 13.13% examples, 861435 words/s, in_qsize 18, out_qsize 1\n",
      "2018-10-23 14:32:04,984 : INFO : EPOCH 5 - PROGRESS: at 15.73% examples, 863903 words/s, in_qsize 16, out_qsize 3\n",
      "2018-10-23 14:32:05,996 : INFO : EPOCH 5 - PROGRESS: at 18.78% examples, 899283 words/s, in_qsize 18, out_qsize 1\n",
      "2018-10-23 14:32:07,001 : INFO : EPOCH 5 - PROGRESS: at 21.65% examples, 912280 words/s, in_qsize 14, out_qsize 5\n",
      "2018-10-23 14:32:08,021 : INFO : EPOCH 5 - PROGRESS: at 24.17% examples, 917503 words/s, in_qsize 19, out_qsize 0\n",
      "2018-10-23 14:32:09,040 : INFO : EPOCH 5 - PROGRESS: at 27.96% examples, 930056 words/s, in_qsize 19, out_qsize 0\n",
      "2018-10-23 14:32:10,059 : INFO : EPOCH 5 - PROGRESS: at 32.06% examples, 947415 words/s, in_qsize 18, out_qsize 1\n",
      "2018-10-23 14:32:11,063 : INFO : EPOCH 5 - PROGRESS: at 35.99% examples, 963728 words/s, in_qsize 18, out_qsize 1\n",
      "2018-10-23 14:32:12,068 : INFO : EPOCH 5 - PROGRESS: at 39.95% examples, 975530 words/s, in_qsize 19, out_qsize 0\n",
      "2018-10-23 14:32:13,093 : INFO : EPOCH 5 - PROGRESS: at 43.98% examples, 982329 words/s, in_qsize 18, out_qsize 1\n",
      "2018-10-23 14:32:14,096 : INFO : EPOCH 5 - PROGRESS: at 48.02% examples, 993371 words/s, in_qsize 19, out_qsize 0\n",
      "2018-10-23 14:32:15,102 : INFO : EPOCH 5 - PROGRESS: at 51.87% examples, 1000018 words/s, in_qsize 19, out_qsize 0\n",
      "2018-10-23 14:32:16,107 : INFO : EPOCH 5 - PROGRESS: at 55.77% examples, 1008346 words/s, in_qsize 19, out_qsize 0\n",
      "2018-10-23 14:32:17,116 : INFO : EPOCH 5 - PROGRESS: at 59.28% examples, 1008779 words/s, in_qsize 14, out_qsize 6\n",
      "2018-10-23 14:32:18,120 : INFO : EPOCH 5 - PROGRESS: at 63.23% examples, 1015278 words/s, in_qsize 20, out_qsize 3\n",
      "2018-10-23 14:32:19,121 : INFO : EPOCH 5 - PROGRESS: at 67.20% examples, 1021514 words/s, in_qsize 19, out_qsize 0\n",
      "2018-10-23 14:32:20,124 : INFO : EPOCH 5 - PROGRESS: at 70.85% examples, 1026173 words/s, in_qsize 19, out_qsize 0\n",
      "2018-10-23 14:32:21,138 : INFO : EPOCH 5 - PROGRESS: at 74.61% examples, 1027969 words/s, in_qsize 19, out_qsize 0\n",
      "2018-10-23 14:32:22,161 : INFO : EPOCH 5 - PROGRESS: at 77.95% examples, 1028877 words/s, in_qsize 19, out_qsize 0\n",
      "2018-10-23 14:32:23,185 : INFO : EPOCH 5 - PROGRESS: at 81.22% examples, 1026998 words/s, in_qsize 19, out_qsize 0\n",
      "2018-10-23 14:32:24,194 : INFO : EPOCH 5 - PROGRESS: at 84.06% examples, 1019654 words/s, in_qsize 20, out_qsize 1\n",
      "2018-10-23 14:32:25,205 : INFO : EPOCH 5 - PROGRESS: at 87.25% examples, 1016499 words/s, in_qsize 20, out_qsize 3\n",
      "2018-10-23 14:32:26,220 : INFO : EPOCH 5 - PROGRESS: at 91.15% examples, 1018938 words/s, in_qsize 19, out_qsize 1\n",
      "2018-10-23 14:32:27,233 : INFO : EPOCH 5 - PROGRESS: at 94.96% examples, 1022010 words/s, in_qsize 20, out_qsize 0\n",
      "2018-10-23 14:32:28,243 : INFO : EPOCH 5 - PROGRESS: at 98.96% examples, 1026103 words/s, in_qsize 20, out_qsize 1\n",
      "2018-10-23 14:32:28,452 : INFO : worker thread finished; awaiting finish of 9 more threads\n",
      "2018-10-23 14:32:28,461 : INFO : worker thread finished; awaiting finish of 8 more threads\n",
      "2018-10-23 14:32:28,463 : INFO : worker thread finished; awaiting finish of 7 more threads\n",
      "2018-10-23 14:32:28,465 : INFO : worker thread finished; awaiting finish of 6 more threads\n",
      "2018-10-23 14:32:28,472 : INFO : worker thread finished; awaiting finish of 5 more threads\n",
      "2018-10-23 14:32:28,475 : INFO : worker thread finished; awaiting finish of 4 more threads\n",
      "2018-10-23 14:32:28,480 : INFO : worker thread finished; awaiting finish of 3 more threads\n",
      "2018-10-23 14:32:28,484 : INFO : worker thread finished; awaiting finish of 2 more threads\n",
      "2018-10-23 14:32:28,485 : INFO : worker thread finished; awaiting finish of 1 more threads\n",
      "2018-10-23 14:32:28,486 : INFO : worker thread finished; awaiting finish of 0 more threads\n",
      "2018-10-23 14:32:28,487 : INFO : EPOCH - 5 : training on 41519355 raw words (30349838 effective words) took 29.5s, 1027780 effective words/s\n",
      "2018-10-23 14:32:29,497 : INFO : EPOCH 6 - PROGRESS: at 3.62% examples, 1120295 words/s, in_qsize 20, out_qsize 0\n",
      "2018-10-23 14:32:30,499 : INFO : EPOCH 6 - PROGRESS: at 7.38% examples, 1135093 words/s, in_qsize 18, out_qsize 1\n",
      "2018-10-23 14:32:31,500 : INFO : EPOCH 6 - PROGRESS: at 10.24% examples, 1089518 words/s, in_qsize 18, out_qsize 1\n",
      "2018-10-23 14:32:32,513 : INFO : EPOCH 6 - PROGRESS: at 13.37% examples, 1092499 words/s, in_qsize 20, out_qsize 0\n",
      "2018-10-23 14:32:33,531 : INFO : EPOCH 6 - PROGRESS: at 16.65% examples, 1101915 words/s, in_qsize 16, out_qsize 3\n",
      "2018-10-23 14:32:34,532 : INFO : EPOCH 6 - PROGRESS: at 19.82% examples, 1116719 words/s, in_qsize 19, out_qsize 0\n",
      "2018-10-23 14:32:35,539 : INFO : EPOCH 6 - PROGRESS: at 23.05% examples, 1117933 words/s, in_qsize 19, out_qsize 0\n",
      "2018-10-23 14:32:36,541 : INFO : EPOCH 6 - PROGRESS: at 26.55% examples, 1118216 words/s, in_qsize 19, out_qsize 0\n",
      "2018-10-23 14:32:37,542 : INFO : EPOCH 6 - PROGRESS: at 30.42% examples, 1114043 words/s, in_qsize 17, out_qsize 2\n",
      "2018-10-23 14:32:38,543 : INFO : EPOCH 6 - PROGRESS: at 34.10% examples, 1107253 words/s, in_qsize 19, out_qsize 0\n",
      "2018-10-23 14:32:39,555 : INFO : EPOCH 6 - PROGRESS: at 37.80% examples, 1101151 words/s, in_qsize 16, out_qsize 3\n",
      "2018-10-23 14:32:40,564 : INFO : EPOCH 6 - PROGRESS: at 42.10% examples, 1105756 words/s, in_qsize 17, out_qsize 2\n",
      "2018-10-23 14:32:41,573 : INFO : EPOCH 6 - PROGRESS: at 46.24% examples, 1108636 words/s, in_qsize 19, out_qsize 0\n",
      "2018-10-23 14:32:42,576 : INFO : EPOCH 6 - PROGRESS: at 50.19% examples, 1110561 words/s, in_qsize 18, out_qsize 1\n",
      "2018-10-23 14:32:43,578 : INFO : EPOCH 6 - PROGRESS: at 53.88% examples, 1111648 words/s, in_qsize 19, out_qsize 0\n",
      "2018-10-23 14:32:44,587 : INFO : EPOCH 6 - PROGRESS: at 57.83% examples, 1112047 words/s, in_qsize 19, out_qsize 0\n",
      "2018-10-23 14:32:45,590 : INFO : EPOCH 6 - PROGRESS: at 61.73% examples, 1113270 words/s, in_qsize 18, out_qsize 1\n",
      "2018-10-23 14:32:46,599 : INFO : EPOCH 6 - PROGRESS: at 65.63% examples, 1111323 words/s, in_qsize 19, out_qsize 0\n",
      "2018-10-23 14:32:47,613 : INFO : EPOCH 6 - PROGRESS: at 69.12% examples, 1106882 words/s, in_qsize 19, out_qsize 0\n",
      "2018-10-23 14:32:48,620 : INFO : EPOCH 6 - PROGRESS: at 72.98% examples, 1109107 words/s, in_qsize 19, out_qsize 0\n",
      "2018-10-23 14:32:49,623 : INFO : EPOCH 6 - PROGRESS: at 76.67% examples, 1110284 words/s, in_qsize 19, out_qsize 0\n",
      "2018-10-23 14:32:50,630 : INFO : EPOCH 6 - PROGRESS: at 80.23% examples, 1109859 words/s, in_qsize 19, out_qsize 0\n",
      "2018-10-23 14:32:51,644 : INFO : EPOCH 6 - PROGRESS: at 83.58% examples, 1104733 words/s, in_qsize 19, out_qsize 0\n",
      "2018-10-23 14:32:52,649 : INFO : EPOCH 6 - PROGRESS: at 87.47% examples, 1106744 words/s, in_qsize 19, out_qsize 0\n",
      "2018-10-23 14:32:53,654 : INFO : EPOCH 6 - PROGRESS: at 91.34% examples, 1105884 words/s, in_qsize 18, out_qsize 5\n",
      "2018-10-23 14:32:54,657 : INFO : EPOCH 6 - PROGRESS: at 95.12% examples, 1105944 words/s, in_qsize 19, out_qsize 0\n",
      "2018-10-23 14:32:55,667 : INFO : EPOCH 6 - PROGRESS: at 98.70% examples, 1103033 words/s, in_qsize 19, out_qsize 0\n",
      "2018-10-23 14:32:55,923 : INFO : worker thread finished; awaiting finish of 9 more threads\n",
      "2018-10-23 14:32:55,945 : INFO : worker thread finished; awaiting finish of 8 more threads\n",
      "2018-10-23 14:32:55,946 : INFO : worker thread finished; awaiting finish of 7 more threads\n",
      "2018-10-23 14:32:55,951 : INFO : worker thread finished; awaiting finish of 6 more threads\n",
      "2018-10-23 14:32:55,960 : INFO : worker thread finished; awaiting finish of 5 more threads\n",
      "2018-10-23 14:32:55,967 : INFO : worker thread finished; awaiting finish of 4 more threads\n",
      "2018-10-23 14:32:55,968 : INFO : worker thread finished; awaiting finish of 3 more threads\n",
      "2018-10-23 14:32:55,972 : INFO : worker thread finished; awaiting finish of 2 more threads\n",
      "2018-10-23 14:32:55,974 : INFO : worker thread finished; awaiting finish of 1 more threads\n",
      "2018-10-23 14:32:55,979 : INFO : worker thread finished; awaiting finish of 0 more threads\n"
     ]
    },
    {
     "name": "stderr",
     "output_type": "stream",
     "text": [
      "2018-10-23 14:32:55,980 : INFO : EPOCH - 6 : training on 41519355 raw words (30346277 effective words) took 27.5s, 1104001 effective words/s\n",
      "2018-10-23 14:32:56,995 : INFO : EPOCH 7 - PROGRESS: at 3.64% examples, 1113917 words/s, in_qsize 19, out_qsize 0\n",
      "2018-10-23 14:32:57,998 : INFO : EPOCH 7 - PROGRESS: at 7.35% examples, 1127957 words/s, in_qsize 19, out_qsize 0\n",
      "2018-10-23 14:32:59,005 : INFO : EPOCH 7 - PROGRESS: at 10.61% examples, 1125585 words/s, in_qsize 19, out_qsize 0\n",
      "2018-10-23 14:33:00,017 : INFO : EPOCH 7 - PROGRESS: at 13.75% examples, 1122790 words/s, in_qsize 19, out_qsize 0\n",
      "2018-10-23 14:33:01,022 : INFO : EPOCH 7 - PROGRESS: at 17.05% examples, 1129086 words/s, in_qsize 19, out_qsize 0\n",
      "2018-10-23 14:33:02,023 : INFO : EPOCH 7 - PROGRESS: at 20.04% examples, 1130806 words/s, in_qsize 19, out_qsize 0\n",
      "2018-10-23 14:33:03,030 : INFO : EPOCH 7 - PROGRESS: at 23.26% examples, 1129328 words/s, in_qsize 19, out_qsize 0\n",
      "2018-10-23 14:33:04,037 : INFO : EPOCH 7 - PROGRESS: at 26.37% examples, 1111512 words/s, in_qsize 20, out_qsize 0\n",
      "2018-10-23 14:33:05,064 : INFO : EPOCH 7 - PROGRESS: at 29.82% examples, 1090607 words/s, in_qsize 16, out_qsize 5\n",
      "2018-10-23 14:33:06,069 : INFO : EPOCH 7 - PROGRESS: at 33.19% examples, 1074869 words/s, in_qsize 19, out_qsize 0\n",
      "2018-10-23 14:33:07,069 : INFO : EPOCH 7 - PROGRESS: at 36.81% examples, 1073013 words/s, in_qsize 19, out_qsize 0\n",
      "2018-10-23 14:33:08,072 : INFO : EPOCH 7 - PROGRESS: at 40.28% examples, 1064449 words/s, in_qsize 19, out_qsize 0\n",
      "2018-10-23 14:33:09,075 : INFO : EPOCH 7 - PROGRESS: at 43.76% examples, 1056076 words/s, in_qsize 19, out_qsize 0\n",
      "2018-10-23 14:33:10,087 : INFO : EPOCH 7 - PROGRESS: at 47.02% examples, 1045138 words/s, in_qsize 19, out_qsize 0\n",
      "2018-10-23 14:33:11,091 : INFO : EPOCH 7 - PROGRESS: at 50.53% examples, 1042006 words/s, in_qsize 19, out_qsize 0\n",
      "2018-10-23 14:33:12,100 : INFO : EPOCH 7 - PROGRESS: at 53.55% examples, 1034742 words/s, in_qsize 20, out_qsize 0\n",
      "2018-10-23 14:33:13,104 : INFO : EPOCH 7 - PROGRESS: at 56.06% examples, 1015057 words/s, in_qsize 19, out_qsize 0\n",
      "2018-10-23 14:33:14,143 : INFO : EPOCH 7 - PROGRESS: at 58.86% examples, 1001922 words/s, in_qsize 18, out_qsize 1\n",
      "2018-10-23 14:33:15,144 : INFO : EPOCH 7 - PROGRESS: at 62.23% examples, 1001085 words/s, in_qsize 19, out_qsize 0\n",
      "2018-10-23 14:33:16,165 : INFO : EPOCH 7 - PROGRESS: at 65.67% examples, 997846 words/s, in_qsize 19, out_qsize 0\n",
      "2018-10-23 14:33:17,172 : INFO : EPOCH 7 - PROGRESS: at 68.97% examples, 996481 words/s, in_qsize 19, out_qsize 0\n",
      "2018-10-23 14:33:18,183 : INFO : EPOCH 7 - PROGRESS: at 72.67% examples, 1002099 words/s, in_qsize 19, out_qsize 0\n",
      "2018-10-23 14:33:19,184 : INFO : EPOCH 7 - PROGRESS: at 75.82% examples, 999254 words/s, in_qsize 18, out_qsize 1\n",
      "2018-10-23 14:33:20,193 : INFO : EPOCH 7 - PROGRESS: at 78.80% examples, 996769 words/s, in_qsize 18, out_qsize 1\n",
      "2018-10-23 14:33:21,199 : INFO : EPOCH 7 - PROGRESS: at 82.10% examples, 996727 words/s, in_qsize 16, out_qsize 3\n",
      "2018-10-23 14:33:22,209 : INFO : EPOCH 7 - PROGRESS: at 85.47% examples, 998334 words/s, in_qsize 19, out_qsize 0\n",
      "2018-10-23 14:33:23,285 : INFO : EPOCH 7 - PROGRESS: at 88.11% examples, 985942 words/s, in_qsize 19, out_qsize 0\n",
      "2018-10-23 14:33:24,289 : INFO : EPOCH 7 - PROGRESS: at 90.98% examples, 979581 words/s, in_qsize 19, out_qsize 0\n",
      "2018-10-23 14:33:25,297 : INFO : EPOCH 7 - PROGRESS: at 93.77% examples, 973933 words/s, in_qsize 19, out_qsize 0\n",
      "2018-10-23 14:33:26,315 : INFO : EPOCH 7 - PROGRESS: at 97.51% examples, 976894 words/s, in_qsize 18, out_qsize 1\n",
      "2018-10-23 14:33:26,882 : INFO : worker thread finished; awaiting finish of 9 more threads\n",
      "2018-10-23 14:33:26,898 : INFO : worker thread finished; awaiting finish of 8 more threads\n",
      "2018-10-23 14:33:26,901 : INFO : worker thread finished; awaiting finish of 7 more threads\n",
      "2018-10-23 14:33:26,908 : INFO : worker thread finished; awaiting finish of 6 more threads\n",
      "2018-10-23 14:33:26,920 : INFO : worker thread finished; awaiting finish of 5 more threads\n",
      "2018-10-23 14:33:26,931 : INFO : worker thread finished; awaiting finish of 4 more threads\n",
      "2018-10-23 14:33:26,932 : INFO : worker thread finished; awaiting finish of 3 more threads\n",
      "2018-10-23 14:33:26,933 : INFO : worker thread finished; awaiting finish of 2 more threads\n",
      "2018-10-23 14:33:26,934 : INFO : worker thread finished; awaiting finish of 1 more threads\n",
      "2018-10-23 14:33:26,935 : INFO : worker thread finished; awaiting finish of 0 more threads\n",
      "2018-10-23 14:33:26,936 : INFO : EPOCH - 7 : training on 41519355 raw words (30347326 effective words) took 31.0s, 980513 effective words/s\n",
      "2018-10-23 14:33:27,942 : INFO : EPOCH 8 - PROGRESS: at 3.54% examples, 1095468 words/s, in_qsize 20, out_qsize 0\n",
      "2018-10-23 14:33:28,952 : INFO : EPOCH 8 - PROGRESS: at 7.25% examples, 1111194 words/s, in_qsize 19, out_qsize 0\n",
      "2018-10-23 14:33:29,959 : INFO : EPOCH 8 - PROGRESS: at 10.45% examples, 1107432 words/s, in_qsize 19, out_qsize 0\n",
      "2018-10-23 14:33:30,960 : INFO : EPOCH 8 - PROGRESS: at 13.52% examples, 1107173 words/s, in_qsize 19, out_qsize 0\n",
      "2018-10-23 14:33:31,966 : INFO : EPOCH 8 - PROGRESS: at 16.60% examples, 1099466 words/s, in_qsize 19, out_qsize 0\n",
      "2018-10-23 14:33:32,976 : INFO : EPOCH 8 - PROGRESS: at 19.07% examples, 1067853 words/s, in_qsize 18, out_qsize 1\n",
      "2018-10-23 14:33:33,977 : INFO : EPOCH 8 - PROGRESS: at 21.77% examples, 1048808 words/s, in_qsize 19, out_qsize 0\n",
      "2018-10-23 14:33:34,987 : INFO : EPOCH 8 - PROGRESS: at 24.06% examples, 1029092 words/s, in_qsize 19, out_qsize 0\n",
      "2018-10-23 14:33:35,989 : INFO : EPOCH 8 - PROGRESS: at 27.08% examples, 1010834 words/s, in_qsize 14, out_qsize 6\n",
      "2018-10-23 14:33:37,003 : INFO : EPOCH 8 - PROGRESS: at 30.77% examples, 1010814 words/s, in_qsize 19, out_qsize 0\n",
      "2018-10-23 14:33:38,014 : INFO : EPOCH 8 - PROGRESS: at 33.82% examples, 997226 words/s, in_qsize 19, out_qsize 0\n",
      "2018-10-23 14:33:39,018 : INFO : EPOCH 8 - PROGRESS: at 37.28% examples, 996870 words/s, in_qsize 19, out_qsize 0\n",
      "2018-10-23 14:33:40,021 : INFO : EPOCH 8 - PROGRESS: at 39.72% examples, 972732 words/s, in_qsize 17, out_qsize 2\n",
      "2018-10-23 14:33:41,038 : INFO : EPOCH 8 - PROGRESS: at 42.17% examples, 948484 words/s, in_qsize 19, out_qsize 0\n",
      "2018-10-23 14:33:42,057 : INFO : EPOCH 8 - PROGRESS: at 45.41% examples, 943265 words/s, in_qsize 19, out_qsize 0\n",
      "2018-10-23 14:33:43,059 : INFO : EPOCH 8 - PROGRESS: at 48.70% examples, 944511 words/s, in_qsize 19, out_qsize 0\n",
      "2018-10-23 14:33:44,072 : INFO : EPOCH 8 - PROGRESS: at 52.07% examples, 945739 words/s, in_qsize 19, out_qsize 0\n",
      "2018-10-23 14:33:45,076 : INFO : EPOCH 8 - PROGRESS: at 55.05% examples, 943066 words/s, in_qsize 18, out_qsize 1\n",
      "2018-10-23 14:33:46,102 : INFO : EPOCH 8 - PROGRESS: at 58.75% examples, 947980 words/s, in_qsize 19, out_qsize 0\n",
      "2018-10-23 14:33:47,104 : INFO : EPOCH 8 - PROGRESS: at 62.37% examples, 953017 words/s, in_qsize 18, out_qsize 1\n",
      "2018-10-23 14:33:48,132 : INFO : EPOCH 8 - PROGRESS: at 66.33% examples, 959757 words/s, in_qsize 20, out_qsize 2\n",
      "2018-10-23 14:33:49,153 : INFO : EPOCH 8 - PROGRESS: at 69.48% examples, 958003 words/s, in_qsize 19, out_qsize 0\n",
      "2018-10-23 14:33:50,156 : INFO : EPOCH 8 - PROGRESS: at 72.32% examples, 954265 words/s, in_qsize 19, out_qsize 0\n",
      "2018-10-23 14:33:51,175 : INFO : EPOCH 8 - PROGRESS: at 75.02% examples, 946129 words/s, in_qsize 18, out_qsize 1\n",
      "2018-10-23 14:33:52,178 : INFO : EPOCH 8 - PROGRESS: at 77.48% examples, 939918 words/s, in_qsize 20, out_qsize 1\n",
      "2018-10-23 14:33:53,180 : INFO : EPOCH 8 - PROGRESS: at 79.87% examples, 932038 words/s, in_qsize 18, out_qsize 1\n",
      "2018-10-23 14:33:54,210 : INFO : EPOCH 8 - PROGRESS: at 82.69% examples, 927976 words/s, in_qsize 19, out_qsize 0\n",
      "2018-10-23 14:33:55,211 : INFO : EPOCH 8 - PROGRESS: at 85.35% examples, 924833 words/s, in_qsize 18, out_qsize 2\n",
      "2018-10-23 14:33:56,230 : INFO : EPOCH 8 - PROGRESS: at 87.81% examples, 915852 words/s, in_qsize 19, out_qsize 0\n",
      "2018-10-23 14:33:57,230 : INFO : EPOCH 8 - PROGRESS: at 90.29% examples, 908952 words/s, in_qsize 17, out_qsize 2\n",
      "2018-10-23 14:33:58,240 : INFO : EPOCH 8 - PROGRESS: at 93.02% examples, 905198 words/s, in_qsize 19, out_qsize 0\n",
      "2018-10-23 14:33:59,281 : INFO : EPOCH 8 - PROGRESS: at 95.14% examples, 895055 words/s, in_qsize 17, out_qsize 3\n"
     ]
    },
    {
     "name": "stderr",
     "output_type": "stream",
     "text": [
      "2018-10-23 14:34:00,281 : INFO : EPOCH 8 - PROGRESS: at 97.26% examples, 886573 words/s, in_qsize 19, out_qsize 0\n",
      "2018-10-23 14:34:01,205 : INFO : worker thread finished; awaiting finish of 9 more threads\n",
      "2018-10-23 14:34:01,233 : INFO : worker thread finished; awaiting finish of 8 more threads\n",
      "2018-10-23 14:34:01,246 : INFO : worker thread finished; awaiting finish of 7 more threads\n",
      "2018-10-23 14:34:01,259 : INFO : worker thread finished; awaiting finish of 6 more threads\n",
      "2018-10-23 14:34:01,271 : INFO : worker thread finished; awaiting finish of 5 more threads\n",
      "2018-10-23 14:34:01,273 : INFO : worker thread finished; awaiting finish of 4 more threads\n",
      "2018-10-23 14:34:01,277 : INFO : worker thread finished; awaiting finish of 3 more threads\n",
      "2018-10-23 14:34:01,283 : INFO : EPOCH 8 - PROGRESS: at 99.96% examples, 883272 words/s, in_qsize 2, out_qsize 1\n",
      "2018-10-23 14:34:01,284 : INFO : worker thread finished; awaiting finish of 2 more threads\n",
      "2018-10-23 14:34:01,285 : INFO : worker thread finished; awaiting finish of 1 more threads\n",
      "2018-10-23 14:34:01,286 : INFO : worker thread finished; awaiting finish of 0 more threads\n",
      "2018-10-23 14:34:01,287 : INFO : EPOCH - 8 : training on 41519355 raw words (30347318 effective words) took 34.3s, 883593 effective words/s\n",
      "2018-10-23 14:34:02,375 : INFO : EPOCH 9 - PROGRESS: at 1.78% examples, 521711 words/s, in_qsize 18, out_qsize 3\n",
      "2018-10-23 14:34:03,375 : INFO : EPOCH 9 - PROGRESS: at 4.17% examples, 617754 words/s, in_qsize 19, out_qsize 0\n",
      "2018-10-23 14:34:04,378 : INFO : EPOCH 9 - PROGRESS: at 7.49% examples, 750637 words/s, in_qsize 19, out_qsize 0\n",
      "2018-10-23 14:34:05,379 : INFO : EPOCH 9 - PROGRESS: at 10.63% examples, 832635 words/s, in_qsize 18, out_qsize 1\n",
      "2018-10-23 14:34:06,386 : INFO : EPOCH 9 - PROGRESS: at 13.19% examples, 852885 words/s, in_qsize 19, out_qsize 0\n",
      "2018-10-23 14:34:07,388 : INFO : EPOCH 9 - PROGRESS: at 16.20% examples, 882899 words/s, in_qsize 19, out_qsize 0\n",
      "2018-10-23 14:34:08,400 : INFO : EPOCH 9 - PROGRESS: at 18.77% examples, 889730 words/s, in_qsize 18, out_qsize 1\n",
      "2018-10-23 14:34:09,438 : INFO : EPOCH 9 - PROGRESS: at 20.56% examples, 864354 words/s, in_qsize 20, out_qsize 4\n",
      "2018-10-23 14:34:10,441 : INFO : EPOCH 9 - PROGRESS: at 23.42% examples, 877099 words/s, in_qsize 19, out_qsize 0\n",
      "2018-10-23 14:34:11,444 : INFO : EPOCH 9 - PROGRESS: at 26.76% examples, 892679 words/s, in_qsize 17, out_qsize 3\n",
      "2018-10-23 14:34:12,455 : INFO : EPOCH 9 - PROGRESS: at 30.77% examples, 911363 words/s, in_qsize 19, out_qsize 0\n",
      "2018-10-23 14:34:13,466 : INFO : EPOCH 9 - PROGRESS: at 34.43% examples, 921044 words/s, in_qsize 19, out_qsize 0\n",
      "2018-10-23 14:34:14,497 : INFO : EPOCH 9 - PROGRESS: at 38.19% examples, 930503 words/s, in_qsize 19, out_qsize 0\n",
      "2018-10-23 14:34:15,508 : INFO : EPOCH 9 - PROGRESS: at 41.95% examples, 936351 words/s, in_qsize 16, out_qsize 3\n",
      "2018-10-23 14:34:16,521 : INFO : EPOCH 9 - PROGRESS: at 45.57% examples, 939865 words/s, in_qsize 19, out_qsize 0\n",
      "2018-10-23 14:34:17,527 : INFO : EPOCH 9 - PROGRESS: at 48.97% examples, 942477 words/s, in_qsize 19, out_qsize 0\n",
      "2018-10-23 14:34:18,529 : INFO : EPOCH 9 - PROGRESS: at 52.44% examples, 946842 words/s, in_qsize 18, out_qsize 1\n",
      "2018-10-23 14:34:19,530 : INFO : EPOCH 9 - PROGRESS: at 56.03% examples, 952765 words/s, in_qsize 20, out_qsize 0\n",
      "2018-10-23 14:34:20,533 : INFO : EPOCH 9 - PROGRESS: at 59.83% examples, 960514 words/s, in_qsize 19, out_qsize 0\n",
      "2018-10-23 14:34:21,538 : INFO : EPOCH 9 - PROGRESS: at 63.72% examples, 967155 words/s, in_qsize 20, out_qsize 0\n",
      "2018-10-23 14:34:22,556 : INFO : EPOCH 9 - PROGRESS: at 67.27% examples, 969798 words/s, in_qsize 19, out_qsize 0\n",
      "2018-10-23 14:34:23,556 : INFO : EPOCH 9 - PROGRESS: at 70.89% examples, 976055 words/s, in_qsize 19, out_qsize 0\n",
      "2018-10-23 14:34:24,574 : INFO : EPOCH 9 - PROGRESS: at 74.65% examples, 979785 words/s, in_qsize 19, out_qsize 0\n",
      "2018-10-23 14:34:25,576 : INFO : EPOCH 9 - PROGRESS: at 77.48% examples, 977066 words/s, in_qsize 18, out_qsize 1\n",
      "2018-10-23 14:34:26,580 : INFO : EPOCH 9 - PROGRESS: at 80.55% examples, 975839 words/s, in_qsize 17, out_qsize 2\n",
      "2018-10-23 14:34:27,596 : INFO : EPOCH 9 - PROGRESS: at 83.65% examples, 973458 words/s, in_qsize 19, out_qsize 0\n",
      "2018-10-23 14:34:28,600 : INFO : EPOCH 9 - PROGRESS: at 86.50% examples, 969485 words/s, in_qsize 20, out_qsize 0\n",
      "2018-10-23 14:34:29,612 : INFO : EPOCH 9 - PROGRESS: at 90.09% examples, 970298 words/s, in_qsize 18, out_qsize 3\n",
      "2018-10-23 14:34:30,621 : INFO : EPOCH 9 - PROGRESS: at 93.70% examples, 972826 words/s, in_qsize 19, out_qsize 0\n",
      "2018-10-23 14:34:31,625 : INFO : EPOCH 9 - PROGRESS: at 97.38% examples, 975622 words/s, in_qsize 20, out_qsize 0\n",
      "2018-10-23 14:34:32,298 : INFO : worker thread finished; awaiting finish of 9 more threads\n",
      "2018-10-23 14:34:32,320 : INFO : worker thread finished; awaiting finish of 8 more threads\n",
      "2018-10-23 14:34:32,333 : INFO : worker thread finished; awaiting finish of 7 more threads\n",
      "2018-10-23 14:34:32,341 : INFO : worker thread finished; awaiting finish of 6 more threads\n",
      "2018-10-23 14:34:32,348 : INFO : worker thread finished; awaiting finish of 5 more threads\n",
      "2018-10-23 14:34:32,355 : INFO : worker thread finished; awaiting finish of 4 more threads\n",
      "2018-10-23 14:34:32,356 : INFO : worker thread finished; awaiting finish of 3 more threads\n",
      "2018-10-23 14:34:32,357 : INFO : worker thread finished; awaiting finish of 2 more threads\n",
      "2018-10-23 14:34:32,358 : INFO : worker thread finished; awaiting finish of 1 more threads\n",
      "2018-10-23 14:34:32,373 : INFO : worker thread finished; awaiting finish of 0 more threads\n",
      "2018-10-23 14:34:32,374 : INFO : EPOCH - 9 : training on 41519355 raw words (30350513 effective words) took 31.1s, 976599 effective words/s\n",
      "2018-10-23 14:34:33,385 : INFO : EPOCH 10 - PROGRESS: at 3.05% examples, 939731 words/s, in_qsize 19, out_qsize 0\n",
      "2018-10-23 14:34:34,387 : INFO : EPOCH 10 - PROGRESS: at 6.21% examples, 955266 words/s, in_qsize 18, out_qsize 1\n",
      "2018-10-23 14:34:35,411 : INFO : EPOCH 10 - PROGRESS: at 9.04% examples, 929142 words/s, in_qsize 19, out_qsize 0\n",
      "2018-10-23 14:34:36,429 : INFO : EPOCH 10 - PROGRESS: at 11.51% examples, 922732 words/s, in_qsize 16, out_qsize 3\n",
      "2018-10-23 14:34:37,432 : INFO : EPOCH 10 - PROGRESS: at 14.08% examples, 920257 words/s, in_qsize 18, out_qsize 1\n",
      "2018-10-23 14:34:38,451 : INFO : EPOCH 10 - PROGRESS: at 16.56% examples, 908403 words/s, in_qsize 18, out_qsize 1\n",
      "2018-10-23 14:34:39,459 : INFO : EPOCH 10 - PROGRESS: at 19.11% examples, 912004 words/s, in_qsize 19, out_qsize 0\n",
      "2018-10-23 14:34:40,468 : INFO : EPOCH 10 - PROGRESS: at 22.05% examples, 925512 words/s, in_qsize 19, out_qsize 0\n",
      "2018-10-23 14:34:41,473 : INFO : EPOCH 10 - PROGRESS: at 24.50% examples, 928524 words/s, in_qsize 17, out_qsize 2\n",
      "2018-10-23 14:34:42,498 : INFO : EPOCH 10 - PROGRESS: at 28.19% examples, 932226 words/s, in_qsize 19, out_qsize 0\n",
      "2018-10-23 14:34:43,501 : INFO : EPOCH 10 - PROGRESS: at 31.87% examples, 939614 words/s, in_qsize 16, out_qsize 1\n",
      "2018-10-23 14:34:44,509 : INFO : EPOCH 10 - PROGRESS: at 35.25% examples, 944264 words/s, in_qsize 19, out_qsize 0\n",
      "2018-10-23 14:34:45,512 : INFO : EPOCH 10 - PROGRESS: at 38.83% examples, 948842 words/s, in_qsize 19, out_qsize 0\n",
      "2018-10-23 14:34:46,528 : INFO : EPOCH 10 - PROGRESS: at 42.43% examples, 951018 words/s, in_qsize 18, out_qsize 1\n",
      "2018-10-23 14:34:47,539 : INFO : EPOCH 10 - PROGRESS: at 46.10% examples, 953249 words/s, in_qsize 19, out_qsize 0\n",
      "2018-10-23 14:34:48,543 : INFO : EPOCH 10 - PROGRESS: at 49.23% examples, 950603 words/s, in_qsize 19, out_qsize 0\n",
      "2018-10-23 14:34:49,545 : INFO : EPOCH 10 - PROGRESS: at 52.38% examples, 949528 words/s, in_qsize 18, out_qsize 1\n",
      "2018-10-23 14:34:50,550 : INFO : EPOCH 10 - PROGRESS: at 55.77% examples, 951481 words/s, in_qsize 19, out_qsize 1\n",
      "2018-10-23 14:34:51,565 : INFO : EPOCH 10 - PROGRESS: at 59.10% examples, 951573 words/s, in_qsize 19, out_qsize 0\n",
      "2018-10-23 14:34:52,571 : INFO : EPOCH 10 - PROGRESS: at 61.75% examples, 942935 words/s, in_qsize 19, out_qsize 0\n",
      "2018-10-23 14:34:53,582 : INFO : EPOCH 10 - PROGRESS: at 64.57% examples, 933061 words/s, in_qsize 17, out_qsize 2\n",
      "2018-10-23 14:34:54,590 : INFO : EPOCH 10 - PROGRESS: at 67.20% examples, 927191 words/s, in_qsize 17, out_qsize 2\n"
     ]
    },
    {
     "name": "stderr",
     "output_type": "stream",
     "text": [
      "2018-10-23 14:34:55,591 : INFO : EPOCH 10 - PROGRESS: at 70.34% examples, 928718 words/s, in_qsize 19, out_qsize 0\n",
      "2018-10-23 14:34:56,602 : INFO : EPOCH 10 - PROGRESS: at 73.62% examples, 928698 words/s, in_qsize 18, out_qsize 1\n",
      "2018-10-23 14:34:57,605 : INFO : EPOCH 10 - PROGRESS: at 76.51% examples, 928032 words/s, in_qsize 18, out_qsize 1\n",
      "2018-10-23 14:34:58,632 : INFO : EPOCH 10 - PROGRESS: at 79.59% examples, 927912 words/s, in_qsize 17, out_qsize 2\n",
      "2018-10-23 14:34:59,633 : INFO : EPOCH 10 - PROGRESS: at 82.28% examples, 924183 words/s, in_qsize 19, out_qsize 6\n",
      "2018-10-23 14:35:00,641 : INFO : EPOCH 10 - PROGRESS: at 85.27% examples, 924036 words/s, in_qsize 18, out_qsize 1\n",
      "2018-10-23 14:35:01,665 : INFO : EPOCH 10 - PROGRESS: at 88.48% examples, 922522 words/s, in_qsize 19, out_qsize 0\n",
      "2018-10-23 14:35:02,670 : INFO : EPOCH 10 - PROGRESS: at 91.79% examples, 922917 words/s, in_qsize 19, out_qsize 0\n",
      "2018-10-23 14:35:03,682 : INFO : EPOCH 10 - PROGRESS: at 95.04% examples, 923758 words/s, in_qsize 19, out_qsize 0\n",
      "2018-10-23 14:35:04,684 : INFO : EPOCH 10 - PROGRESS: at 98.47% examples, 926097 words/s, in_qsize 19, out_qsize 0\n",
      "2018-10-23 14:35:05,031 : INFO : worker thread finished; awaiting finish of 9 more threads\n",
      "2018-10-23 14:35:05,038 : INFO : worker thread finished; awaiting finish of 8 more threads\n",
      "2018-10-23 14:35:05,044 : INFO : worker thread finished; awaiting finish of 7 more threads\n",
      "2018-10-23 14:35:05,045 : INFO : worker thread finished; awaiting finish of 6 more threads\n",
      "2018-10-23 14:35:05,057 : INFO : worker thread finished; awaiting finish of 5 more threads\n",
      "2018-10-23 14:35:05,063 : INFO : worker thread finished; awaiting finish of 4 more threads\n",
      "2018-10-23 14:35:05,064 : INFO : worker thread finished; awaiting finish of 3 more threads\n",
      "2018-10-23 14:35:05,067 : INFO : worker thread finished; awaiting finish of 2 more threads\n",
      "2018-10-23 14:35:05,071 : INFO : worker thread finished; awaiting finish of 1 more threads\n",
      "2018-10-23 14:35:05,073 : INFO : worker thread finished; awaiting finish of 0 more threads\n",
      "2018-10-23 14:35:05,073 : INFO : EPOCH - 10 : training on 41519355 raw words (30347572 effective words) took 32.7s, 928215 effective words/s\n",
      "2018-10-23 14:35:05,074 : INFO : training on a 415193550 raw words (303488249 effective words) took 329.4s, 921450 effective words/s\n"
     ]
    },
    {
     "data": {
      "text/plain": [
       "(303488249, 415193550)"
      ]
     },
     "execution_count": 4,
     "metadata": {},
     "output_type": "execute_result"
    }
   ],
   "source": [
    "model = gensim.models.Word2Vec (documents, size=150, window=10, min_count=2, workers=10, sg=0)\n",
    "model.train(documents,total_examples=len(documents),epochs=10)"
   ]
  },
  {
   "cell_type": "markdown",
   "metadata": {},
   "source": [
    "## Now, let's look at some output \n",
    "This first example shows a simple case of looking up words similar to the word `dirty`. All we need to do here is to call the `most_similar` function and provide the word `dirty` as the positive example. This returns the top 10 similar words. "
   ]
  },
  {
   "cell_type": "code",
   "execution_count": 5,
   "metadata": {},
   "outputs": [
    {
     "name": "stderr",
     "output_type": "stream",
     "text": [
      "2018-10-23 14:35:05,088 : INFO : precomputing L2-norms of word weight vectors\n",
      "/Library/Frameworks/Python.framework/Versions/3.6/lib/python3.6/site-packages/gensim/matutils.py:737: FutureWarning: Conversion of the second argument of issubdtype from `int` to `np.signedinteger` is deprecated. In future, it will be treated as `np.int64 == np.dtype(int).type`.\n",
      "  if np.issubdtype(vec.dtype, np.int):\n"
     ]
    },
    {
     "data": {
      "text/plain": [
       "[('filthy', 0.8684808611869812),\n",
       " ('stained', 0.7797233462333679),\n",
       " ('unclean', 0.7728196978569031),\n",
       " ('smelly', 0.7563701868057251),\n",
       " ('dusty', 0.7521894574165344),\n",
       " ('grubby', 0.7508471012115479),\n",
       " ('grimy', 0.7466033697128296),\n",
       " ('dingy', 0.7357178330421448),\n",
       " ('soiled', 0.7203205227851868),\n",
       " ('gross', 0.7166814804077148)]"
      ]
     },
     "execution_count": 5,
     "metadata": {},
     "output_type": "execute_result"
    }
   ],
   "source": [
    "\n",
    "w1 = \"dirty\"\n",
    "model.wv.most_similar (positive=w1)\n"
   ]
  },
  {
   "cell_type": "markdown",
   "metadata": {},
   "source": [
    "That looks pretty good, right? Let's look at a few more. Let's look at similarity for `polite`, `france` and `shocked`. "
   ]
  },
  {
   "cell_type": "code",
   "execution_count": 6,
   "metadata": {},
   "outputs": [
    {
     "name": "stderr",
     "output_type": "stream",
     "text": [
      "/Library/Frameworks/Python.framework/Versions/3.6/lib/python3.6/site-packages/gensim/matutils.py:737: FutureWarning: Conversion of the second argument of issubdtype from `int` to `np.signedinteger` is deprecated. In future, it will be treated as `np.int64 == np.dtype(int).type`.\n",
      "  if np.issubdtype(vec.dtype, np.int):\n"
     ]
    },
    {
     "data": {
      "text/plain": [
       "[('courteous', 0.9128109216690063),\n",
       " ('friendly', 0.8269704580307007),\n",
       " ('cordial', 0.7921279072761536),\n",
       " ('professional', 0.7823814749717712),\n",
       " ('attentive', 0.7719215154647827),\n",
       " ('curteous', 0.7616638541221619)]"
      ]
     },
     "execution_count": 6,
     "metadata": {},
     "output_type": "execute_result"
    }
   ],
   "source": [
    "# look up top 6 words similar to 'polite'\n",
    "w1 = [\"polite\"]\n",
    "model.wv.most_similar (positive=w1,topn=6)\n"
   ]
  },
  {
   "cell_type": "code",
   "execution_count": 7,
   "metadata": {},
   "outputs": [
    {
     "name": "stderr",
     "output_type": "stream",
     "text": [
      "/Library/Frameworks/Python.framework/Versions/3.6/lib/python3.6/site-packages/gensim/matutils.py:737: FutureWarning: Conversion of the second argument of issubdtype from `int` to `np.signedinteger` is deprecated. In future, it will be treated as `np.int64 == np.dtype(int).type`.\n",
      "  if np.issubdtype(vec.dtype, np.int):\n"
     ]
    },
    {
     "data": {
      "text/plain": [
       "[('canada', 0.696135401725769),\n",
       " ('germany', 0.6570076942443848),\n",
       " ('hawaii', 0.6482532024383545),\n",
       " ('england', 0.6377837657928467),\n",
       " ('spain', 0.6188236474990845),\n",
       " ('gaulle', 0.6184977889060974)]"
      ]
     },
     "execution_count": 7,
     "metadata": {},
     "output_type": "execute_result"
    }
   ],
   "source": [
    "# look up top 6 words similar to 'france'\n",
    "w1 = [\"france\"]\n",
    "model.wv.most_similar (positive=w1,topn=6)\n"
   ]
  },
  {
   "cell_type": "code",
   "execution_count": 8,
   "metadata": {},
   "outputs": [
    {
     "name": "stderr",
     "output_type": "stream",
     "text": [
      "/Library/Frameworks/Python.framework/Versions/3.6/lib/python3.6/site-packages/gensim/matutils.py:737: FutureWarning: Conversion of the second argument of issubdtype from `int` to `np.signedinteger` is deprecated. In future, it will be treated as `np.int64 == np.dtype(int).type`.\n",
      "  if np.issubdtype(vec.dtype, np.int):\n"
     ]
    },
    {
     "data": {
      "text/plain": [
       "[('horrified', 0.8035989999771118),\n",
       " ('amazed', 0.7973026037216187),\n",
       " ('astonished', 0.7695813179016113),\n",
       " ('appalled', 0.7583582401275635),\n",
       " ('dismayed', 0.7440380454063416),\n",
       " ('stunned', 0.7386012077331543)]"
      ]
     },
     "execution_count": 8,
     "metadata": {},
     "output_type": "execute_result"
    }
   ],
   "source": [
    "# look up top 6 words similar to 'shocked'\n",
    "w1 = [\"shocked\"]\n",
    "model.wv.most_similar (positive=w1,topn=6)\n"
   ]
  },
  {
   "cell_type": "markdown",
   "metadata": {},
   "source": [
    "That's, nice. You can even specify several positive examples to get things that are related in the provided context and provide negative examples to say what should not be considered as related. In the example below we are asking for all items that *relate to bed* only:"
   ]
  },
  {
   "cell_type": "code",
   "execution_count": 9,
   "metadata": {},
   "outputs": [
    {
     "name": "stderr",
     "output_type": "stream",
     "text": [
      "/Library/Frameworks/Python.framework/Versions/3.6/lib/python3.6/site-packages/gensim/matutils.py:737: FutureWarning: Conversion of the second argument of issubdtype from `int` to `np.signedinteger` is deprecated. In future, it will be treated as `np.int64 == np.dtype(int).type`.\n",
      "  if np.issubdtype(vec.dtype, np.int):\n"
     ]
    },
    {
     "data": {
      "text/plain": [
       "[('duvet', 0.7165772914886475),\n",
       " ('mattress', 0.7019136548042297),\n",
       " ('blanket', 0.7014796137809753),\n",
       " ('quilt', 0.6976365447044373),\n",
       " ('pillowcase', 0.6968289017677307),\n",
       " ('matress', 0.6824468374252319),\n",
       " ('pillows', 0.6468196511268616),\n",
       " ('sheets', 0.6290844678878784),\n",
       " ('foam', 0.6226242780685425),\n",
       " ('comforter', 0.6007372736930847)]"
      ]
     },
     "execution_count": 9,
     "metadata": {},
     "output_type": "execute_result"
    }
   ],
   "source": [
    "# get everything related to stuff on the bed\n",
    "w1 = [\"bed\",'sheet','pillow']\n",
    "w2 = ['couch']\n",
    "model.wv.most_similar (positive=w1,negative=w2,topn=10)\n"
   ]
  },
  {
   "cell_type": "markdown",
   "metadata": {},
   "source": [
    "### Similarity between two words in the vocabulary"
   ]
  },
  {
   "cell_type": "markdown",
   "metadata": {},
   "source": [
    "You can even use the Word2Vec model to return the similarity between two words that are present in the vocabulary. "
   ]
  },
  {
   "cell_type": "code",
   "execution_count": 10,
   "metadata": {},
   "outputs": [
    {
     "name": "stderr",
     "output_type": "stream",
     "text": [
      "/Library/Frameworks/Python.framework/Versions/3.6/lib/python3.6/site-packages/gensim/matutils.py:737: FutureWarning: Conversion of the second argument of issubdtype from `int` to `np.signedinteger` is deprecated. In future, it will be treated as `np.int64 == np.dtype(int).type`.\n",
      "  if np.issubdtype(vec.dtype, np.int):\n"
     ]
    },
    {
     "data": {
      "text/plain": [
       "0.75637025"
      ]
     },
     "execution_count": 10,
     "metadata": {},
     "output_type": "execute_result"
    }
   ],
   "source": [
    "# similarity between two different words\n",
    "model.wv.similarity(w1=\"dirty\",w2=\"smelly\")"
   ]
  },
  {
   "cell_type": "code",
   "execution_count": 11,
   "metadata": {},
   "outputs": [
    {
     "name": "stderr",
     "output_type": "stream",
     "text": [
      "/Library/Frameworks/Python.framework/Versions/3.6/lib/python3.6/site-packages/gensim/matutils.py:737: FutureWarning: Conversion of the second argument of issubdtype from `int` to `np.signedinteger` is deprecated. In future, it will be treated as `np.int64 == np.dtype(int).type`.\n",
      "  if np.issubdtype(vec.dtype, np.int):\n"
     ]
    },
    {
     "data": {
      "text/plain": [
       "0.99999994"
      ]
     },
     "execution_count": 11,
     "metadata": {},
     "output_type": "execute_result"
    }
   ],
   "source": [
    "# similarity between two identical words\n",
    "model.wv.similarity(w1=\"dirty\",w2=\"dirty\")"
   ]
  },
  {
   "cell_type": "code",
   "execution_count": 12,
   "metadata": {},
   "outputs": [
    {
     "name": "stderr",
     "output_type": "stream",
     "text": [
      "/Library/Frameworks/Python.framework/Versions/3.6/lib/python3.6/site-packages/gensim/matutils.py:737: FutureWarning: Conversion of the second argument of issubdtype from `int` to `np.signedinteger` is deprecated. In future, it will be treated as `np.int64 == np.dtype(int).type`.\n",
      "  if np.issubdtype(vec.dtype, np.int):\n"
     ]
    },
    {
     "data": {
      "text/plain": [
       "0.27014747"
      ]
     },
     "execution_count": 12,
     "metadata": {},
     "output_type": "execute_result"
    }
   ],
   "source": [
    "# similarity between two unrelated words\n",
    "model.wv.similarity(w1=\"dirty\",w2=\"clean\")"
   ]
  },
  {
   "cell_type": "markdown",
   "metadata": {},
   "source": [
    "Under the hood, the above three snippets computes the cosine similarity between the two specified words using word vectors of each. From the scores, it makes sense that `dirty` is highly similar to `smelly` but `dirty` is dissimilar to `clean`. If you do a similarity between two identical words, the score will be 1.0 as the range of the cosine similarity score will always be between [0.0-1.0]. You can read more about cosine similarity scoring [here](https://en.wikipedia.org/wiki/Cosine_similarity)."
   ]
  },
  {
   "cell_type": "markdown",
   "metadata": {},
   "source": [
    "### Find the odd one out\n",
    "You can even use Word2Vec to find odd items given a list of items."
   ]
  },
  {
   "cell_type": "code",
   "execution_count": 13,
   "metadata": {},
   "outputs": [
    {
     "name": "stderr",
     "output_type": "stream",
     "text": [
      "/Library/Frameworks/Python.framework/Versions/3.6/lib/python3.6/site-packages/gensim/matutils.py:737: FutureWarning: Conversion of the second argument of issubdtype from `int` to `np.signedinteger` is deprecated. In future, it will be treated as `np.int64 == np.dtype(int).type`.\n",
      "  if np.issubdtype(vec.dtype, np.int):\n"
     ]
    },
    {
     "data": {
      "text/plain": [
       "'france'"
      ]
     },
     "execution_count": 13,
     "metadata": {},
     "output_type": "execute_result"
    }
   ],
   "source": [
    "# Which one is the odd one out in this list?\n",
    "model.wv.doesnt_match([\"cat\",\"dog\",\"france\"])"
   ]
  },
  {
   "cell_type": "code",
   "execution_count": 14,
   "metadata": {},
   "outputs": [
    {
     "name": "stderr",
     "output_type": "stream",
     "text": [
      "/Library/Frameworks/Python.framework/Versions/3.6/lib/python3.6/site-packages/gensim/matutils.py:737: FutureWarning: Conversion of the second argument of issubdtype from `int` to `np.signedinteger` is deprecated. In future, it will be treated as `np.int64 == np.dtype(int).type`.\n",
      "  if np.issubdtype(vec.dtype, np.int):\n"
     ]
    },
    {
     "data": {
      "text/plain": [
       "'shower'"
      ]
     },
     "execution_count": 14,
     "metadata": {},
     "output_type": "execute_result"
    }
   ],
   "source": [
    "# Which one is the odd one out in this list?\n",
    "model.wv.doesnt_match([\"bed\",\"pillow\",\"duvet\",\"shower\"])\n"
   ]
  },
  {
   "cell_type": "markdown",
   "metadata": {},
   "source": [
    "## Understanding some of the parameters\n",
    "To train the model earlier, we had to set some parameters. Now, let's try to understand what some of them mean. For reference, this is the command that we used to train the model.\n",
    "\n",
    "```\n",
    "model = gensim.models.Word2Vec (documents, size=150, window=10, min_count=2, workers=10)\n",
    "```\n",
    "\n",
    "### `size`\n",
    "The size of the dense vector to represent each token or word. If you have very limited data, then size should be a much smaller value. If you have lots of data, its good to experiment with various sizes. A value of 100-150 has worked well for me. \n",
    "\n",
    "### `window`\n",
    "The maximum distance between the target word and its neighboring word. If your neighbor's position is greater than the maximum window width to the left and the right, then, some neighbors are not considered as being related to the target word. In theory, a smaller window should give you terms that are more related. If you have lots of data, then the window size should not matter too much, as long as its a decent sized window. \n",
    "\n",
    "### `min_count`\n",
    "Minimium frequency count of words. The model would ignore words that do not statisfy the `min_count`. Extremely infrequent words are usually unimportant, so its best to get rid of those. Unless your dataset is really tiny, this does not really affect the model.\n",
    "\n",
    "### `workers`\n",
    "How many threads to use behind the scenes?\n",
    "\n",
    "### `sg`\n",
    "Set sg to 1 to use the skip gram model and set it to 0 to use CBOW. By default, sg is set to 0"
   ]
  },
  {
   "cell_type": "markdown",
   "metadata": {},
   "source": [
    "## When should you use Word2Vec?\n",
    "\n",
    "There are many application scenarios for Word2Vec. Imagine if you need to build a sentiment lexicon. Training a Word2Vec model on large amounts of user reviews helps you achieve that. You have a lexicon for not just sentiment, but for most words in the vocabulary. \n",
    "\n",
    "Beyond, raw unstructured text data, you could also use Word2Vec for more structured data. For example, if you had tags for a million stackoverflow questions and answers, you could find tags that are related to a given tag and recommend the related ones for exploration. You can do this by treating each set of co-occuring tags as a \"sentence\" and train a Word2Vec model on this data. Granted, you still need a large number of examples to make it work. \n"
   ]
  }
 ],
 "metadata": {
  "kernelspec": {
   "display_name": "Python 3",
   "language": "python",
   "name": "python3"
  },
  "language_info": {
   "codemirror_mode": {
    "name": "ipython",
    "version": 3
   },
   "file_extension": ".py",
   "mimetype": "text/x-python",
   "name": "python",
   "nbconvert_exporter": "python",
   "pygments_lexer": "ipython3",
   "version": "3.6.5"
  }
 },
 "nbformat": 4,
 "nbformat_minor": 2
}
